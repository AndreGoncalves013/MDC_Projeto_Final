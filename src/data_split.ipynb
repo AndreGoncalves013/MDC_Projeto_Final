{
  "cells": [
    {
      "cell_type": "markdown",
      "metadata": {
        "id": "Rn7eAp7u2dYV"
      },
      "source": [
        "# **Data Split**"
      ]
    },
    {
      "cell_type": "markdown",
      "metadata": {
        "id": "RpKb-7Z4RCwB"
      },
      "source": [
        "Objetivo desse código é de gerar um dataframe que marca em qual conjunto de dados (treino, validação e teste) uma amostra pertence.\n"
      ]
    },
    {
      "cell_type": "markdown",
      "metadata": {
        "id": "eZJ6oHBI32yx"
      },
      "source": [
        "## Importação de pacotes e leitura dos dados"
      ]
    },
    {
      "cell_type": "code",
      "execution_count": 1,
      "metadata": {
        "id": "D1bAlzyDUL2q"
      },
      "outputs": [],
      "source": [
        "import numpy as np\n",
        "import pandas as pd\n",
        "from sklearn.model_selection import train_test_split\n"
      ]
    },
    {
      "cell_type": "code",
      "execution_count": 2,
      "metadata": {},
      "outputs": [],
      "source": [
        "dataset = pd.read_csv('../dataset/Data/features_30_sec.csv')"
      ]
    },
    {
      "cell_type": "markdown",
      "metadata": {
        "id": "KxeoggfNX6GG"
      },
      "source": [
        "## Separação de dados de treino e teste"
      ]
    },
    {
      "cell_type": "code",
      "execution_count": 3,
      "metadata": {
        "id": "IPv3RawGZixl"
      },
      "outputs": [],
      "source": [
        "X = dataset.drop(columns= 'label')\n",
        "y = dataset['label']"
      ]
    },
    {
      "cell_type": "code",
      "execution_count": 4,
      "metadata": {
        "id": "h6WC2AkGYa2f"
      },
      "outputs": [],
      "source": [
        "X_model, X_test, y_model, y_test = \\\n",
        "  train_test_split(\n",
        "      X,\n",
        "      y, \n",
        "      test_size=.05, \n",
        "      random_state = 42\n",
        "  )\n",
        "\n",
        "X_train, X_val, y_train, y_val = \\\n",
        "  train_test_split(\n",
        "      X_model,\n",
        "      y_model, \n",
        "      test_size=.15, \n",
        "      random_state = 42\n",
        "  )\n",
        "  "
      ]
    },
    {
      "cell_type": "markdown",
      "metadata": {},
      "source": [
        "## Salvando os 3 conjuntos de dados com marcação treino, validação e test"
      ]
    },
    {
      "cell_type": "code",
      "execution_count": 5,
      "metadata": {},
      "outputs": [],
      "source": [
        "def set_subset(X, y, subset):\n",
        "    \n",
        "    df = X.copy()\n",
        "    df['label'] = y\n",
        "    df['sample_index'] = df.index\n",
        "    df['subset'] = subset\n",
        "\n",
        "    return df[['filename', 'sample_index', 'subset']]"
      ]
    },
    {
      "cell_type": "code",
      "execution_count": 6,
      "metadata": {
        "id": "895QkjSioQQn"
      },
      "outputs": [],
      "source": [
        "train_indexes = set_subset(X_train, y_train, 'train')\n",
        "val_indexes = set_subset(X_val, y_val, 'val')\n",
        "test_indexes = set_subset(X_test, y_test, 'test')\n"
      ]
    },
    {
      "cell_type": "code",
      "execution_count": 7,
      "metadata": {},
      "outputs": [
        {
          "data": {
            "text/plain": [
              "((807, 3), (143, 3), (50, 3))"
            ]
          },
          "execution_count": 7,
          "metadata": {},
          "output_type": "execute_result"
        }
      ],
      "source": [
        "train_indexes.shape, val_indexes.shape, test_indexes.shape"
      ]
    },
    {
      "cell_type": "code",
      "execution_count": 8,
      "metadata": {},
      "outputs": [
        {
          "data": {
            "text/html": [
              "<div>\n",
              "<style scoped>\n",
              "    .dataframe tbody tr th:only-of-type {\n",
              "        vertical-align: middle;\n",
              "    }\n",
              "\n",
              "    .dataframe tbody tr th {\n",
              "        vertical-align: top;\n",
              "    }\n",
              "\n",
              "    .dataframe thead th {\n",
              "        text-align: right;\n",
              "    }\n",
              "</style>\n",
              "<table border=\"1\" class=\"dataframe\">\n",
              "  <thead>\n",
              "    <tr style=\"text-align: right;\">\n",
              "      <th></th>\n",
              "      <th>filename</th>\n",
              "      <th>sample_index</th>\n",
              "      <th>subset</th>\n",
              "    </tr>\n",
              "  </thead>\n",
              "  <tbody>\n",
              "    <tr>\n",
              "      <th>374</th>\n",
              "      <td>disco.00074.wav</td>\n",
              "      <td>374</td>\n",
              "      <td>train</td>\n",
              "    </tr>\n",
              "    <tr>\n",
              "      <th>853</th>\n",
              "      <td>reggae.00053.wav</td>\n",
              "      <td>853</td>\n",
              "      <td>train</td>\n",
              "    </tr>\n",
              "    <tr>\n",
              "      <th>965</th>\n",
              "      <td>rock.00065.wav</td>\n",
              "      <td>965</td>\n",
              "      <td>train</td>\n",
              "    </tr>\n",
              "    <tr>\n",
              "      <th>365</th>\n",
              "      <td>disco.00065.wav</td>\n",
              "      <td>365</td>\n",
              "      <td>train</td>\n",
              "    </tr>\n",
              "    <tr>\n",
              "      <th>388</th>\n",
              "      <td>disco.00088.wav</td>\n",
              "      <td>388</td>\n",
              "      <td>train</td>\n",
              "    </tr>\n",
              "  </tbody>\n",
              "</table>\n",
              "</div>"
            ],
            "text/plain": [
              "             filename  sample_index subset\n",
              "374   disco.00074.wav           374  train\n",
              "853  reggae.00053.wav           853  train\n",
              "965    rock.00065.wav           965  train\n",
              "365   disco.00065.wav           365  train\n",
              "388   disco.00088.wav           388  train"
            ]
          },
          "execution_count": 8,
          "metadata": {},
          "output_type": "execute_result"
        }
      ],
      "source": [
        "train_indexes.head()"
      ]
    },
    {
      "cell_type": "code",
      "execution_count": 9,
      "metadata": {},
      "outputs": [],
      "source": [
        "train_indexes.to_csv('../dataset/Data/train_indexes.csv')\n",
        "val_indexes.to_csv('../dataset/Data/val_indexes.csv')\n",
        "test_indexes.to_csv('../dataset/Data/test_indexes.csv')"
      ]
    }
  ],
  "metadata": {
    "colab": {
      "collapsed_sections": [],
      "name": "Music Genre Classification - MASTER.ipynb",
      "provenance": [],
      "toc_visible": true
    },
    "kernelspec": {
      "display_name": "Python 3",
      "name": "python3"
    },
    "language_info": {
      "codemirror_mode": {
        "name": "ipython",
        "version": 3
      },
      "file_extension": ".py",
      "mimetype": "text/x-python",
      "name": "python",
      "nbconvert_exporter": "python",
      "pygments_lexer": "ipython3",
      "version": "3.8.8"
    }
  },
  "nbformat": 4,
  "nbformat_minor": 0
}
