{
  "cells": [
    {
      "cell_type": "markdown",
      "metadata": {
        "id": "Rn7eAp7u2dYV"
      },
      "source": [
        "# **Data Split**"
      ]
    },
    {
      "cell_type": "markdown",
      "metadata": {
        "id": "RpKb-7Z4RCwB"
      },
      "source": [
        "Objetivo desse código é de gerar um dataframe que marca em qual conjunto de dados (treino, validação e teste) uma amostra pertence.\n"
      ]
    },
    {
      "cell_type": "markdown",
      "metadata": {
        "id": "eZJ6oHBI32yx"
      },
      "source": [
        "## Importação de pacotes e leitura dos dados"
      ]
    },
    {
      "cell_type": "code",
      "execution_count": 1,
      "metadata": {
        "id": "D1bAlzyDUL2q"
      },
      "outputs": [],
      "source": [
        "import numpy as np\n",
        "import pandas as pd\n",
        "from sklearn.model_selection import train_test_split\n"
      ]
    },
    {
      "cell_type": "code",
      "execution_count": 2,
      "metadata": {},
      "outputs": [],
      "source": [
        "dataset = pd.read_csv('../dataset/Data/features_30_sec.csv')"
      ]
    },
    {
      "cell_type": "markdown",
      "metadata": {
        "id": "KxeoggfNX6GG"
      },
      "source": [
        "## Separação de dados de treino e teste"
      ]
    },
    {
      "cell_type": "code",
      "execution_count": 3,
      "metadata": {
        "id": "IPv3RawGZixl"
      },
      "outputs": [],
      "source": [
        "X = dataset['filename']\n",
        "y = dataset['label']"
      ]
    },
    {
      "cell_type": "code",
      "execution_count": 5,
      "metadata": {},
      "outputs": [],
      "source": [
        "X_train, X_val_test, y_train, y_val_test = train_test_split(X, y, test_size= 0.3, random_state=42, stratify = y)\n",
        "\n",
        "X_val, X_test, y_val, y_test = train_test_split(X_val_test, y_val_test, test_size= 0.5, random_state=42, stratify = y_val_test)"
      ]
    },
    {
      "cell_type": "markdown",
      "metadata": {},
      "source": [
        "## Salvando os 3 conjuntos de dados com marcação treino, validação e test"
      ]
    },
    {
      "cell_type": "code",
      "execution_count": 9,
      "metadata": {},
      "outputs": [],
      "source": [
        "def set_subset(X, y, subset):\n",
        "    \n",
        "    df_dict = {\n",
        "        'sample_index' : X.index,\n",
        "        'filename': X,\n",
        "        'label': y\n",
        "    }\n",
        "\n",
        "    df = pd.DataFrame(df_dict)\n",
        "    df['subset'] = subset\n",
        "\n",
        "    return df"
      ]
    },
    {
      "cell_type": "code",
      "execution_count": 10,
      "metadata": {
        "id": "895QkjSioQQn"
      },
      "outputs": [],
      "source": [
        "train_indexes = set_subset(X_train, y_train, 'train')\n",
        "val_indexes = set_subset(X_val, y_val, 'val')\n",
        "test_indexes = set_subset(X_test, y_test, 'test')\n"
      ]
    },
    {
      "cell_type": "code",
      "execution_count": 11,
      "metadata": {},
      "outputs": [
        {
          "data": {
            "text/plain": [
              "((700, 4), (150, 4), (150, 4))"
            ]
          },
          "execution_count": 11,
          "metadata": {},
          "output_type": "execute_result"
        }
      ],
      "source": [
        "train_indexes.shape, val_indexes.shape, test_indexes.shape"
      ]
    },
    {
      "cell_type": "code",
      "execution_count": 12,
      "metadata": {},
      "outputs": [
        {
          "data": {
            "text/html": [
              "<div>\n",
              "<style scoped>\n",
              "    .dataframe tbody tr th:only-of-type {\n",
              "        vertical-align: middle;\n",
              "    }\n",
              "\n",
              "    .dataframe tbody tr th {\n",
              "        vertical-align: top;\n",
              "    }\n",
              "\n",
              "    .dataframe thead th {\n",
              "        text-align: right;\n",
              "    }\n",
              "</style>\n",
              "<table border=\"1\" class=\"dataframe\">\n",
              "  <thead>\n",
              "    <tr style=\"text-align: right;\">\n",
              "      <th></th>\n",
              "      <th>sample_index</th>\n",
              "      <th>filename</th>\n",
              "      <th>label</th>\n",
              "      <th>subset</th>\n",
              "    </tr>\n",
              "  </thead>\n",
              "  <tbody>\n",
              "    <tr>\n",
              "      <th>823</th>\n",
              "      <td>823</td>\n",
              "      <td>reggae.00023.wav</td>\n",
              "      <td>reggae</td>\n",
              "      <td>train</td>\n",
              "    </tr>\n",
              "    <tr>\n",
              "      <th>241</th>\n",
              "      <td>241</td>\n",
              "      <td>country.00041.wav</td>\n",
              "      <td>country</td>\n",
              "      <td>train</td>\n",
              "    </tr>\n",
              "    <tr>\n",
              "      <th>181</th>\n",
              "      <td>181</td>\n",
              "      <td>classical.00081.wav</td>\n",
              "      <td>classical</td>\n",
              "      <td>train</td>\n",
              "    </tr>\n",
              "    <tr>\n",
              "      <th>103</th>\n",
              "      <td>103</td>\n",
              "      <td>classical.00003.wav</td>\n",
              "      <td>classical</td>\n",
              "      <td>train</td>\n",
              "    </tr>\n",
              "    <tr>\n",
              "      <th>456</th>\n",
              "      <td>456</td>\n",
              "      <td>hiphop.00056.wav</td>\n",
              "      <td>hiphop</td>\n",
              "      <td>train</td>\n",
              "    </tr>\n",
              "  </tbody>\n",
              "</table>\n",
              "</div>"
            ],
            "text/plain": [
              "     sample_index             filename      label subset\n",
              "823           823     reggae.00023.wav     reggae  train\n",
              "241           241    country.00041.wav    country  train\n",
              "181           181  classical.00081.wav  classical  train\n",
              "103           103  classical.00003.wav  classical  train\n",
              "456           456     hiphop.00056.wav     hiphop  train"
            ]
          },
          "execution_count": 12,
          "metadata": {},
          "output_type": "execute_result"
        }
      ],
      "source": [
        "train_indexes.head()"
      ]
    },
    {
      "cell_type": "code",
      "execution_count": 13,
      "metadata": {},
      "outputs": [],
      "source": [
        "train_indexes.to_csv('../dataset/Data/train_indexes.csv', index = True)\n",
        "val_indexes.to_csv('../dataset/Data/val_indexes.csv', index = True)\n",
        "test_indexes.to_csv('../dataset/Data/test_indexes.csv', index = True)"
      ]
    }
  ],
  "metadata": {
    "colab": {
      "collapsed_sections": [],
      "name": "Music Genre Classification - MASTER.ipynb",
      "provenance": [],
      "toc_visible": true
    },
    "kernelspec": {
      "display_name": "Python 3",
      "name": "python3"
    },
    "language_info": {
      "codemirror_mode": {
        "name": "ipython",
        "version": 3
      },
      "file_extension": ".py",
      "mimetype": "text/x-python",
      "name": "python",
      "nbconvert_exporter": "python",
      "pygments_lexer": "ipython3",
      "version": "3.8.8"
    }
  },
  "nbformat": 4,
  "nbformat_minor": 0
}
