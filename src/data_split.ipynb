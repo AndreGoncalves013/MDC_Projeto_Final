{
  "cells": [
    {
      "cell_type": "markdown",
      "metadata": {
        "id": "Rn7eAp7u2dYV"
      },
      "source": [
        "# **Data Split**"
      ]
    },
    {
      "cell_type": "markdown",
      "metadata": {
        "id": "RpKb-7Z4RCwB"
      },
      "source": [
        "Objetivo desse código é de gerar um dataframe que marca em qual conjunto de dados (treino, validação e teste) uma amostra pertence.\n"
      ]
    },
    {
      "cell_type": "markdown",
      "metadata": {
        "id": "eZJ6oHBI32yx"
      },
      "source": [
        "## Importação de pacotes e leitura dos dados"
      ]
    },
    {
      "cell_type": "code",
      "execution_count": 1,
      "metadata": {
        "id": "D1bAlzyDUL2q"
      },
      "outputs": [],
      "source": [
        "import numpy as np\n",
        "import pandas as pd\n",
        "from sklearn.model_selection import train_test_split\n"
      ]
    },
    {
      "cell_type": "code",
      "execution_count": 2,
      "metadata": {},
      "outputs": [
        {
          "data": {
            "text/html": [
              "<div>\n",
              "<style scoped>\n",
              "    .dataframe tbody tr th:only-of-type {\n",
              "        vertical-align: middle;\n",
              "    }\n",
              "\n",
              "    .dataframe tbody tr th {\n",
              "        vertical-align: top;\n",
              "    }\n",
              "\n",
              "    .dataframe thead th {\n",
              "        text-align: right;\n",
              "    }\n",
              "</style>\n",
              "<table border=\"1\" class=\"dataframe\">\n",
              "  <thead>\n",
              "    <tr style=\"text-align: right;\">\n",
              "      <th></th>\n",
              "      <th>filename</th>\n",
              "      <th>length</th>\n",
              "      <th>chroma_stft_mean</th>\n",
              "      <th>chroma_stft_var</th>\n",
              "      <th>rms_mean</th>\n",
              "      <th>rms_var</th>\n",
              "      <th>spectral_centroid_mean</th>\n",
              "      <th>spectral_centroid_var</th>\n",
              "      <th>spectral_bandwidth_mean</th>\n",
              "      <th>spectral_bandwidth_var</th>\n",
              "      <th>...</th>\n",
              "      <th>mfcc16_var</th>\n",
              "      <th>mfcc17_mean</th>\n",
              "      <th>mfcc17_var</th>\n",
              "      <th>mfcc18_mean</th>\n",
              "      <th>mfcc18_var</th>\n",
              "      <th>mfcc19_mean</th>\n",
              "      <th>mfcc19_var</th>\n",
              "      <th>mfcc20_mean</th>\n",
              "      <th>mfcc20_var</th>\n",
              "      <th>label</th>\n",
              "    </tr>\n",
              "  </thead>\n",
              "  <tbody>\n",
              "    <tr>\n",
              "      <th>0</th>\n",
              "      <td>blues.00000.wav</td>\n",
              "      <td>661794</td>\n",
              "      <td>0.350088</td>\n",
              "      <td>0.088757</td>\n",
              "      <td>0.130228</td>\n",
              "      <td>0.002827</td>\n",
              "      <td>1784.165850</td>\n",
              "      <td>129774.064525</td>\n",
              "      <td>2002.449060</td>\n",
              "      <td>85882.761315</td>\n",
              "      <td>...</td>\n",
              "      <td>52.420910</td>\n",
              "      <td>-1.690215</td>\n",
              "      <td>36.524071</td>\n",
              "      <td>-0.408979</td>\n",
              "      <td>41.597103</td>\n",
              "      <td>-2.303523</td>\n",
              "      <td>55.062923</td>\n",
              "      <td>1.221291</td>\n",
              "      <td>46.936035</td>\n",
              "      <td>blues</td>\n",
              "    </tr>\n",
              "    <tr>\n",
              "      <th>1</th>\n",
              "      <td>blues.00001.wav</td>\n",
              "      <td>661794</td>\n",
              "      <td>0.340914</td>\n",
              "      <td>0.094980</td>\n",
              "      <td>0.095948</td>\n",
              "      <td>0.002373</td>\n",
              "      <td>1530.176679</td>\n",
              "      <td>375850.073649</td>\n",
              "      <td>2039.036516</td>\n",
              "      <td>213843.755497</td>\n",
              "      <td>...</td>\n",
              "      <td>55.356403</td>\n",
              "      <td>-0.731125</td>\n",
              "      <td>60.314529</td>\n",
              "      <td>0.295073</td>\n",
              "      <td>48.120598</td>\n",
              "      <td>-0.283518</td>\n",
              "      <td>51.106190</td>\n",
              "      <td>0.531217</td>\n",
              "      <td>45.786282</td>\n",
              "      <td>blues</td>\n",
              "    </tr>\n",
              "    <tr>\n",
              "      <th>2</th>\n",
              "      <td>blues.00002.wav</td>\n",
              "      <td>661794</td>\n",
              "      <td>0.363637</td>\n",
              "      <td>0.085275</td>\n",
              "      <td>0.175570</td>\n",
              "      <td>0.002746</td>\n",
              "      <td>1552.811865</td>\n",
              "      <td>156467.643368</td>\n",
              "      <td>1747.702312</td>\n",
              "      <td>76254.192257</td>\n",
              "      <td>...</td>\n",
              "      <td>40.598766</td>\n",
              "      <td>-7.729093</td>\n",
              "      <td>47.639427</td>\n",
              "      <td>-1.816407</td>\n",
              "      <td>52.382141</td>\n",
              "      <td>-3.439720</td>\n",
              "      <td>46.639660</td>\n",
              "      <td>-2.231258</td>\n",
              "      <td>30.573025</td>\n",
              "      <td>blues</td>\n",
              "    </tr>\n",
              "    <tr>\n",
              "      <th>3</th>\n",
              "      <td>blues.00003.wav</td>\n",
              "      <td>661794</td>\n",
              "      <td>0.404785</td>\n",
              "      <td>0.093999</td>\n",
              "      <td>0.141093</td>\n",
              "      <td>0.006346</td>\n",
              "      <td>1070.106615</td>\n",
              "      <td>184355.942417</td>\n",
              "      <td>1596.412872</td>\n",
              "      <td>166441.494769</td>\n",
              "      <td>...</td>\n",
              "      <td>44.427753</td>\n",
              "      <td>-3.319597</td>\n",
              "      <td>50.206673</td>\n",
              "      <td>0.636965</td>\n",
              "      <td>37.319130</td>\n",
              "      <td>-0.619121</td>\n",
              "      <td>37.259739</td>\n",
              "      <td>-3.407448</td>\n",
              "      <td>31.949339</td>\n",
              "      <td>blues</td>\n",
              "    </tr>\n",
              "    <tr>\n",
              "      <th>4</th>\n",
              "      <td>blues.00004.wav</td>\n",
              "      <td>661794</td>\n",
              "      <td>0.308526</td>\n",
              "      <td>0.087841</td>\n",
              "      <td>0.091529</td>\n",
              "      <td>0.002303</td>\n",
              "      <td>1835.004266</td>\n",
              "      <td>343399.939274</td>\n",
              "      <td>1748.172116</td>\n",
              "      <td>88445.209036</td>\n",
              "      <td>...</td>\n",
              "      <td>86.099236</td>\n",
              "      <td>-5.454034</td>\n",
              "      <td>75.269707</td>\n",
              "      <td>-0.916874</td>\n",
              "      <td>53.613918</td>\n",
              "      <td>-4.404827</td>\n",
              "      <td>62.910812</td>\n",
              "      <td>-11.703234</td>\n",
              "      <td>55.195160</td>\n",
              "      <td>blues</td>\n",
              "    </tr>\n",
              "  </tbody>\n",
              "</table>\n",
              "<p>5 rows × 60 columns</p>\n",
              "</div>"
            ],
            "text/plain": [
              "          filename  length  chroma_stft_mean  chroma_stft_var  rms_mean  \\\n",
              "0  blues.00000.wav  661794          0.350088         0.088757  0.130228   \n",
              "1  blues.00001.wav  661794          0.340914         0.094980  0.095948   \n",
              "2  blues.00002.wav  661794          0.363637         0.085275  0.175570   \n",
              "3  blues.00003.wav  661794          0.404785         0.093999  0.141093   \n",
              "4  blues.00004.wav  661794          0.308526         0.087841  0.091529   \n",
              "\n",
              "    rms_var  spectral_centroid_mean  spectral_centroid_var  \\\n",
              "0  0.002827             1784.165850          129774.064525   \n",
              "1  0.002373             1530.176679          375850.073649   \n",
              "2  0.002746             1552.811865          156467.643368   \n",
              "3  0.006346             1070.106615          184355.942417   \n",
              "4  0.002303             1835.004266          343399.939274   \n",
              "\n",
              "   spectral_bandwidth_mean  spectral_bandwidth_var  ...  mfcc16_var  \\\n",
              "0              2002.449060            85882.761315  ...   52.420910   \n",
              "1              2039.036516           213843.755497  ...   55.356403   \n",
              "2              1747.702312            76254.192257  ...   40.598766   \n",
              "3              1596.412872           166441.494769  ...   44.427753   \n",
              "4              1748.172116            88445.209036  ...   86.099236   \n",
              "\n",
              "   mfcc17_mean  mfcc17_var  mfcc18_mean  mfcc18_var  mfcc19_mean  mfcc19_var  \\\n",
              "0    -1.690215   36.524071    -0.408979   41.597103    -2.303523   55.062923   \n",
              "1    -0.731125   60.314529     0.295073   48.120598    -0.283518   51.106190   \n",
              "2    -7.729093   47.639427    -1.816407   52.382141    -3.439720   46.639660   \n",
              "3    -3.319597   50.206673     0.636965   37.319130    -0.619121   37.259739   \n",
              "4    -5.454034   75.269707    -0.916874   53.613918    -4.404827   62.910812   \n",
              "\n",
              "   mfcc20_mean  mfcc20_var  label  \n",
              "0     1.221291   46.936035  blues  \n",
              "1     0.531217   45.786282  blues  \n",
              "2    -2.231258   30.573025  blues  \n",
              "3    -3.407448   31.949339  blues  \n",
              "4   -11.703234   55.195160  blues  \n",
              "\n",
              "[5 rows x 60 columns]"
            ]
          },
          "execution_count": 2,
          "metadata": {},
          "output_type": "execute_result"
        }
      ],
      "source": [
        "dataset = pd.read_csv('../dataset/Data/features_30_sec.csv')\n",
        "dataset.head()"
      ]
    },
    {
      "cell_type": "markdown",
      "metadata": {
        "id": "KxeoggfNX6GG"
      },
      "source": [
        "## Separação de dados de treino e teste"
      ]
    },
    {
      "cell_type": "code",
      "execution_count": 3,
      "metadata": {
        "id": "IPv3RawGZixl"
      },
      "outputs": [],
      "source": [
        "X = dataset['filename']\n",
        "y = dataset['label']"
      ]
    },
    {
      "cell_type": "code",
      "execution_count": 4,
      "metadata": {},
      "outputs": [],
      "source": [
        "X_train, X_val_test, y_train, y_val_test = train_test_split(X, y, test_size= 0.3, random_state=42, stratify = y)\n",
        "\n",
        "X_val, X_test, y_val, y_test = train_test_split(X_val_test, y_val_test, test_size= 0.5, random_state=42, stratify = y_val_test)"
      ]
    },
    {
      "cell_type": "markdown",
      "metadata": {},
      "source": [
        "## Salvando os 3 conjuntos de dados com marcação treino, validação e test"
      ]
    },
    {
      "cell_type": "code",
      "execution_count": 5,
      "metadata": {},
      "outputs": [],
      "source": [
        "def set_subset(X, y, subset):\n",
        "    \n",
        "    df_dict = {\n",
        "        'sample_index' : X.index,\n",
        "        'filename': X,\n",
        "        'label': y\n",
        "    }\n",
        "\n",
        "    df = pd.DataFrame(df_dict)\n",
        "    df['subset'] = subset\n",
        "\n",
        "    return df"
      ]
    },
    {
      "cell_type": "code",
      "execution_count": 6,
      "metadata": {
        "id": "895QkjSioQQn"
      },
      "outputs": [],
      "source": [
        "train_indexes = set_subset(X_train, y_train, 'train')\n",
        "val_indexes = set_subset(X_val, y_val, 'val')\n",
        "test_indexes = set_subset(X_test, y_test, 'test')\n"
      ]
    },
    {
      "cell_type": "code",
      "execution_count": 7,
      "metadata": {},
      "outputs": [
        {
          "data": {
            "text/plain": [
              "((700, 4), (150, 4), (150, 4))"
            ]
          },
          "execution_count": 7,
          "metadata": {},
          "output_type": "execute_result"
        }
      ],
      "source": [
        "train_indexes.shape, val_indexes.shape, test_indexes.shape"
      ]
    },
    {
      "cell_type": "code",
      "execution_count": 8,
      "metadata": {},
      "outputs": [
        {
          "data": {
            "text/html": [
              "<div>\n",
              "<style scoped>\n",
              "    .dataframe tbody tr th:only-of-type {\n",
              "        vertical-align: middle;\n",
              "    }\n",
              "\n",
              "    .dataframe tbody tr th {\n",
              "        vertical-align: top;\n",
              "    }\n",
              "\n",
              "    .dataframe thead th {\n",
              "        text-align: right;\n",
              "    }\n",
              "</style>\n",
              "<table border=\"1\" class=\"dataframe\">\n",
              "  <thead>\n",
              "    <tr style=\"text-align: right;\">\n",
              "      <th></th>\n",
              "      <th>sample_index</th>\n",
              "      <th>filename</th>\n",
              "      <th>label</th>\n",
              "      <th>subset</th>\n",
              "    </tr>\n",
              "  </thead>\n",
              "  <tbody>\n",
              "    <tr>\n",
              "      <th>823</th>\n",
              "      <td>823</td>\n",
              "      <td>reggae.00023.wav</td>\n",
              "      <td>reggae</td>\n",
              "      <td>train</td>\n",
              "    </tr>\n",
              "    <tr>\n",
              "      <th>241</th>\n",
              "      <td>241</td>\n",
              "      <td>country.00041.wav</td>\n",
              "      <td>country</td>\n",
              "      <td>train</td>\n",
              "    </tr>\n",
              "    <tr>\n",
              "      <th>181</th>\n",
              "      <td>181</td>\n",
              "      <td>classical.00081.wav</td>\n",
              "      <td>classical</td>\n",
              "      <td>train</td>\n",
              "    </tr>\n",
              "    <tr>\n",
              "      <th>103</th>\n",
              "      <td>103</td>\n",
              "      <td>classical.00003.wav</td>\n",
              "      <td>classical</td>\n",
              "      <td>train</td>\n",
              "    </tr>\n",
              "    <tr>\n",
              "      <th>456</th>\n",
              "      <td>456</td>\n",
              "      <td>hiphop.00056.wav</td>\n",
              "      <td>hiphop</td>\n",
              "      <td>train</td>\n",
              "    </tr>\n",
              "  </tbody>\n",
              "</table>\n",
              "</div>"
            ],
            "text/plain": [
              "     sample_index             filename      label subset\n",
              "823           823     reggae.00023.wav     reggae  train\n",
              "241           241    country.00041.wav    country  train\n",
              "181           181  classical.00081.wav  classical  train\n",
              "103           103  classical.00003.wav  classical  train\n",
              "456           456     hiphop.00056.wav     hiphop  train"
            ]
          },
          "execution_count": 8,
          "metadata": {},
          "output_type": "execute_result"
        }
      ],
      "source": [
        "train_indexes.head()"
      ]
    },
    {
      "cell_type": "code",
      "execution_count": 9,
      "metadata": {},
      "outputs": [],
      "source": [
        "train_indexes.to_csv('../dataset/Data/train_indexes.csv', index = True)\n",
        "val_indexes.to_csv('../dataset/Data/val_indexes.csv', index = True)\n",
        "test_indexes.to_csv('../dataset/Data/test_indexes.csv', index = True)"
      ]
    }
  ],
  "metadata": {
    "colab": {
      "collapsed_sections": [],
      "name": "Music Genre Classification - MASTER.ipynb",
      "provenance": [],
      "toc_visible": true
    },
    "kernelspec": {
      "display_name": "Python 3",
      "name": "python3"
    },
    "language_info": {
      "codemirror_mode": {
        "name": "ipython",
        "version": 3
      },
      "file_extension": ".py",
      "mimetype": "text/x-python",
      "name": "python",
      "nbconvert_exporter": "python",
      "pygments_lexer": "ipython3",
      "version": "3.8.8"
    }
  },
  "nbformat": 4,
  "nbformat_minor": 0
}
