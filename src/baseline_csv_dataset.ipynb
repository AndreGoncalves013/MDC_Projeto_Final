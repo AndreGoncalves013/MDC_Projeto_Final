{
  "cells": [
    {
      "cell_type": "markdown",
      "metadata": {
        "id": "Rn7eAp7u2dYV"
      },
      "source": [
        "# **Baseline CSV Dataset**"
      ]
    },
    {
      "cell_type": "markdown",
      "metadata": {
        "id": "eZJ6oHBI32yx"
      },
      "source": [
        "## Importação de pacotes e leitura dos dados"
      ]
    },
    {
      "cell_type": "code",
      "execution_count": 33,
      "metadata": {
        "id": "D1bAlzyDUL2q"
      },
      "outputs": [],
      "source": [
        "import numpy as np\n",
        "import pandas as pd\n",
        "from sklearn.model_selection import train_test_split\n"
      ]
    },
    {
      "cell_type": "markdown",
      "metadata": {},
      "source": [
        "### Função auxiliar para separação dos conjuntos de dados"
      ]
    },
    {
      "cell_type": "code",
      "execution_count": 29,
      "metadata": {},
      "outputs": [],
      "source": [
        "def get_features_target_data(df, indexes_path):\n",
        "\n",
        "    indexes = pd.read_csv(indexes_path)\n",
        "\n",
        "    filtered_df = df.filter(items = indexes.sample_index, axis=0)\n",
        "\n",
        "    X = filtered_df.drop(columns= 'label')\n",
        "    y = filtered_df['label']\n",
        "\n",
        "    return X, y\n",
        "\n",
        "def get_train_val_set_data(df):\n",
        "\n",
        "    X_train, y_train = get_features_target_data(df, '../dataset/Data/train_indexes.csv')\n",
        "    X_val, y_val = get_features_target_data(df, '../dataset/Data/val_indexes.csv')\n",
        "    X_test, y_test = get_features_target_data(df, '../dataset/Data/test_indexes.csv')\n",
        "\n",
        "    return X_train, y_train, X_val, y_val, X_test, y_test"
      ]
    },
    {
      "cell_type": "markdown",
      "metadata": {},
      "source": [
        "### Leitura dos dados e separação em treino, validação e test"
      ]
    },
    {
      "cell_type": "code",
      "execution_count": 31,
      "metadata": {},
      "outputs": [],
      "source": [
        "dataset = pd.read_csv('../dataset/Data/features_30_sec.csv')"
      ]
    },
    {
      "cell_type": "code",
      "execution_count": 30,
      "metadata": {},
      "outputs": [],
      "source": [
        "X_train, y_train, X_val, y_val, X_test, y_test = get_train_val_set_data(dataset)"
      ]
    },
    {
      "cell_type": "markdown",
      "metadata": {},
      "source": [
        "## Implementação do baseline"
      ]
    },
    {
      "cell_type": "code",
      "execution_count": 36,
      "metadata": {
        "id": "nBjRnfokYqGW"
      },
      "outputs": [],
      "source": [
        "features = dataset.columns.drop(['filename','label'])\n",
        "X_train = X_train.drop(columns= 'filename')\n",
        "X_val = X_val.drop(columns= 'filename')\n",
        "X_test = X_test.drop(columns= 'filename')"
      ]
    },
    {
      "cell_type": "markdown",
      "metadata": {
        "id": "Cd2ZSzXOddAB"
      },
      "source": [
        "---\n",
        "**PERGUNTA - É um problema desbalanceado?**: \n",
        "\n",
        "Para o problema proposto, nota-se que as classes no treino estão bem distribuídas entre si. Assim, não identifica-se um problema desbalanceado"
      ]
    },
    {
      "cell_type": "code",
      "execution_count": 35,
      "metadata": {
        "colab": {
          "base_uri": "https://localhost:8080/"
        },
        "id": "n9dT4vcsYFmN",
        "outputId": "b7b20270-15b4-4677-dd93-20ca08985b4d"
      },
      "outputs": [
        {
          "data": {
            "text/plain": [
              "blues        0.109046\n",
              "hiphop       0.106568\n",
              "country      0.102850\n",
              "jazz         0.100372\n",
              "pop          0.099133\n",
              "classical    0.097893\n",
              "disco        0.097893\n",
              "rock         0.097893\n",
              "reggae       0.094176\n",
              "metal        0.094176\n",
              "Name: label, dtype: float64"
            ]
          },
          "execution_count": 35,
          "metadata": {},
          "output_type": "execute_result"
        }
      ],
      "source": [
        "y_train.value_counts(normalize = True)"
      ]
    },
    {
      "cell_type": "markdown",
      "metadata": {
        "id": "GvHtIE1aiLQL"
      },
      "source": [
        "---\n",
        "**PERGUNTA - Os dados precisarão de algum tipo de pré-processamento?**: \n",
        "\n",
        "No caso do arquivo csv será necessário realizar apenas a normalização pois nosso baseline trata-se de uma SVM. Para os arquivos de imagem, é necessário fazer a extração de cores por pixel. Por fim, no caso dos arquivos de áudio, é necessário convertê-los em alguma forma interpretável como uma sequência de inteiros por frame da música."
      ]
    },
    {
      "cell_type": "markdown",
      "metadata": {
        "id": "sUUTAiBOaFob"
      },
      "source": [
        "### 5. **Implementação do Baseline**"
      ]
    },
    {
      "cell_type": "markdown",
      "metadata": {
        "id": "9pLPTlz1cPN5"
      },
      "source": [
        "Como Baseline, optou-se pelo uso de uma SVM para classificação. No caso, não foram implementadas otimizações de hiperparâmetros. A escolha da SVM foi feita pois o número de amostras disponíveis não é alto e dito algoritmo é robusto a um alto número de features"
      ]
    },
    {
      "cell_type": "code",
      "execution_count": 37,
      "metadata": {
        "id": "DKqFiWbuaQ83"
      },
      "outputs": [],
      "source": [
        "from sklearn.svm import SVC\n",
        "from sklearn import metrics"
      ]
    },
    {
      "cell_type": "code",
      "execution_count": 38,
      "metadata": {
        "id": "aJz8Y2QUaDVq"
      },
      "outputs": [],
      "source": [
        "clfBaseline = SVC()"
      ]
    },
    {
      "cell_type": "code",
      "execution_count": 39,
      "metadata": {
        "id": "ro95UucHaVwL"
      },
      "outputs": [],
      "source": [
        "from sklearn.preprocessing import StandardScaler\n",
        "\n",
        "scaler = StandardScaler()\n",
        "\n",
        "scaler.fit(X_train)\n",
        "\n",
        "scaledXtrain = scaler.transform(X_train)\n",
        "scaledXval = scaler.transform(X_val)"
      ]
    },
    {
      "cell_type": "code",
      "execution_count": 40,
      "metadata": {
        "colab": {
          "base_uri": "https://localhost:8080/"
        },
        "id": "RspOtPjuasjU",
        "outputId": "970846f0-9617-4bd6-9413-73420dfcb96c"
      },
      "outputs": [
        {
          "data": {
            "text/plain": [
              "SVC()"
            ]
          },
          "execution_count": 40,
          "metadata": {},
          "output_type": "execute_result"
        }
      ],
      "source": [
        "clfBaseline.fit(scaledXtrain, y_train)"
      ]
    },
    {
      "cell_type": "markdown",
      "metadata": {
        "id": "R7AOsPQfdfsw"
      },
      "source": [
        "---\n",
        "**PERGUNTA - Quais as métricas utilizadas neste problema? Acurácia, erro, MSRE, etc.? O que elas significam?**: \n",
        "\n",
        "Para o problema proposto é possível a aplicação de métricas como acurácia balanceada, recall, precisão e f1-score. O significado de cada uma é apresentado abaixo:\n",
        "\n",
        "1.   Acurácia: Média de TP/(TP + TN + FP + FN) entre as classes\n",
        "2.   Recall: TP / FN + TP\n",
        "3.   Precisão: TP / TP + FP\n",
        "4.   F1-Score: Média harmônica de recall e precisão\n",
        "\n"
      ]
    },
    {
      "cell_type": "code",
      "execution_count": 41,
      "metadata": {
        "colab": {
          "base_uri": "https://localhost:8080/"
        },
        "id": "q6ogqHY-a7v4",
        "outputId": "fa41fb52-f70c-4f34-8049-c39dbb7c2fb4"
      },
      "outputs": [
        {
          "name": "stdout",
          "output_type": "stream",
          "text": [
            "              precision    recall  f1-score   support\n",
            "\n",
            "       blues       0.67      0.89      0.76         9\n",
            "   classical       0.88      0.88      0.88        16\n",
            "     country       0.67      0.83      0.74        12\n",
            "       disco       0.89      0.53      0.67        15\n",
            "      hiphop       0.83      0.45      0.59        11\n",
            "        jazz       0.79      0.79      0.79        14\n",
            "       metal       0.88      0.88      0.88        17\n",
            "         pop       0.80      0.71      0.75        17\n",
            "      reggae       0.61      0.74      0.67        19\n",
            "        rock       0.38      0.46      0.41        13\n",
            "\n",
            "    accuracy                           0.72       143\n",
            "   macro avg       0.74      0.72      0.71       143\n",
            "weighted avg       0.75      0.72      0.72       143\n",
            "\n"
          ]
        }
      ],
      "source": [
        "resultados = clfBaseline.predict(scaledXval)\n",
        "print(metrics.classification_report(y_val,resultados))"
      ]
    },
    {
      "cell_type": "code",
      "execution_count": 42,
      "metadata": {
        "colab": {
          "base_uri": "https://localhost:8080/"
        },
        "id": "6SXfIhaZeu2r",
        "outputId": "da8c041c-461a-4bd9-cd18-f76db8b350c7"
      },
      "outputs": [
        {
          "name": "stdout",
          "output_type": "stream",
          "text": [
            "0.7157431156734562\n"
          ]
        }
      ],
      "source": [
        "print(metrics.balanced_accuracy_score(y_val,resultados))"
      ]
    },
    {
      "cell_type": "markdown",
      "metadata": {
        "id": "qgEEpb07cjOj"
      },
      "source": [
        "Avaliando os resultados acima, nota-se um resultado muito satisfatório para o Baseline. As métricas de acurácia, recall e precisão ficaram em torno de ~0.7 o que é muito positivo dado o grau de complexidade limitado para o modelo."
      ]
    }
  ],
  "metadata": {
    "colab": {
      "collapsed_sections": [],
      "name": "Music Genre Classification - MASTER.ipynb",
      "provenance": [],
      "toc_visible": true
    },
    "kernelspec": {
      "display_name": "Python 3",
      "name": "python3"
    },
    "language_info": {
      "codemirror_mode": {
        "name": "ipython",
        "version": 3
      },
      "file_extension": ".py",
      "mimetype": "text/x-python",
      "name": "python",
      "nbconvert_exporter": "python",
      "pygments_lexer": "ipython3",
      "version": "3.8.8"
    }
  },
  "nbformat": 4,
  "nbformat_minor": 0
}
