{
  "cells": [
    {
      "cell_type": "markdown",
      "metadata": {
        "id": "Rn7eAp7u2dYV"
      },
      "source": [
        "# **Baseline CSV Dataset**"
      ]
    },
    {
      "cell_type": "markdown",
      "metadata": {
        "id": "eZJ6oHBI32yx"
      },
      "source": [
        "## Importação de pacotes e leitura dos dados"
      ]
    },
    {
      "cell_type": "code",
      "execution_count": 1,
      "metadata": {
        "id": "D1bAlzyDUL2q"
      },
      "outputs": [],
      "source": [
        "import numpy as np\n",
        "import pandas as pd\n",
        "from sklearn.model_selection import train_test_split\n",
        "from utils import get_train_val_set_data\n"
      ]
    },
    {
      "cell_type": "markdown",
      "metadata": {},
      "source": [
        "### Leitura dos dados e separação em treino, validação e test"
      ]
    },
    {
      "cell_type": "code",
      "execution_count": 2,
      "metadata": {},
      "outputs": [],
      "source": [
        "dataset = pd.read_csv('../dataset/Data/features_30_sec.csv')"
      ]
    },
    {
      "cell_type": "code",
      "execution_count": 3,
      "metadata": {},
      "outputs": [
        {
          "name": "stdout",
          "output_type": "stream",
          "text": [
            "-- Treino --\n",
            "X (shape):  (700, 59)\n",
            "y:  700\n",
            "-- Validação --\n",
            "X (shape):  (150, 59)\n",
            "y:  150\n",
            "-- Teste --\n",
            "X (shape):  (150, 59)\n",
            "y:  150\n"
          ]
        }
      ],
      "source": [
        "X_train, y_train, X_val, y_val, X_test, y_test = get_train_val_set_data(dataset)"
      ]
    },
    {
      "cell_type": "code",
      "execution_count": 4,
      "metadata": {},
      "outputs": [
        {
          "data": {
            "text/html": [
              "<div>\n",
              "<style scoped>\n",
              "    .dataframe tbody tr th:only-of-type {\n",
              "        vertical-align: middle;\n",
              "    }\n",
              "\n",
              "    .dataframe tbody tr th {\n",
              "        vertical-align: top;\n",
              "    }\n",
              "\n",
              "    .dataframe thead th {\n",
              "        text-align: right;\n",
              "    }\n",
              "</style>\n",
              "<table border=\"1\" class=\"dataframe\">\n",
              "  <thead>\n",
              "    <tr style=\"text-align: right;\">\n",
              "      <th></th>\n",
              "      <th>filename</th>\n",
              "      <th>length</th>\n",
              "      <th>chroma_stft_mean</th>\n",
              "      <th>chroma_stft_var</th>\n",
              "      <th>rms_mean</th>\n",
              "      <th>rms_var</th>\n",
              "      <th>spectral_centroid_mean</th>\n",
              "      <th>spectral_centroid_var</th>\n",
              "      <th>spectral_bandwidth_mean</th>\n",
              "      <th>spectral_bandwidth_var</th>\n",
              "      <th>...</th>\n",
              "      <th>mfcc16_mean</th>\n",
              "      <th>mfcc16_var</th>\n",
              "      <th>mfcc17_mean</th>\n",
              "      <th>mfcc17_var</th>\n",
              "      <th>mfcc18_mean</th>\n",
              "      <th>mfcc18_var</th>\n",
              "      <th>mfcc19_mean</th>\n",
              "      <th>mfcc19_var</th>\n",
              "      <th>mfcc20_mean</th>\n",
              "      <th>mfcc20_var</th>\n",
              "    </tr>\n",
              "  </thead>\n",
              "  <tbody>\n",
              "    <tr>\n",
              "      <th>0</th>\n",
              "      <td>blues00000</td>\n",
              "      <td>661794</td>\n",
              "      <td>0.350088</td>\n",
              "      <td>0.088757</td>\n",
              "      <td>0.130228</td>\n",
              "      <td>0.002827</td>\n",
              "      <td>1784.165850</td>\n",
              "      <td>1.297741e+05</td>\n",
              "      <td>2002.449060</td>\n",
              "      <td>85882.761315</td>\n",
              "      <td>...</td>\n",
              "      <td>0.752740</td>\n",
              "      <td>52.420910</td>\n",
              "      <td>-1.690215</td>\n",
              "      <td>36.524071</td>\n",
              "      <td>-0.408979</td>\n",
              "      <td>41.597103</td>\n",
              "      <td>-2.303523</td>\n",
              "      <td>55.062923</td>\n",
              "      <td>1.221291</td>\n",
              "      <td>46.936035</td>\n",
              "    </tr>\n",
              "    <tr>\n",
              "      <th>1</th>\n",
              "      <td>blues00003</td>\n",
              "      <td>661794</td>\n",
              "      <td>0.404785</td>\n",
              "      <td>0.093999</td>\n",
              "      <td>0.141093</td>\n",
              "      <td>0.006346</td>\n",
              "      <td>1070.106615</td>\n",
              "      <td>1.843559e+05</td>\n",
              "      <td>1596.412872</td>\n",
              "      <td>166441.494769</td>\n",
              "      <td>...</td>\n",
              "      <td>0.780874</td>\n",
              "      <td>44.427753</td>\n",
              "      <td>-3.319597</td>\n",
              "      <td>50.206673</td>\n",
              "      <td>0.636965</td>\n",
              "      <td>37.319130</td>\n",
              "      <td>-0.619121</td>\n",
              "      <td>37.259739</td>\n",
              "      <td>-3.407448</td>\n",
              "      <td>31.949339</td>\n",
              "    </tr>\n",
              "    <tr>\n",
              "      <th>2</th>\n",
              "      <td>blues00004</td>\n",
              "      <td>661794</td>\n",
              "      <td>0.308526</td>\n",
              "      <td>0.087841</td>\n",
              "      <td>0.091529</td>\n",
              "      <td>0.002303</td>\n",
              "      <td>1835.004266</td>\n",
              "      <td>3.433999e+05</td>\n",
              "      <td>1748.172116</td>\n",
              "      <td>88445.209036</td>\n",
              "      <td>...</td>\n",
              "      <td>-4.520576</td>\n",
              "      <td>86.099236</td>\n",
              "      <td>-5.454034</td>\n",
              "      <td>75.269707</td>\n",
              "      <td>-0.916874</td>\n",
              "      <td>53.613918</td>\n",
              "      <td>-4.404827</td>\n",
              "      <td>62.910812</td>\n",
              "      <td>-11.703234</td>\n",
              "      <td>55.195160</td>\n",
              "    </tr>\n",
              "    <tr>\n",
              "      <th>3</th>\n",
              "      <td>blues00005</td>\n",
              "      <td>661794</td>\n",
              "      <td>0.302456</td>\n",
              "      <td>0.087532</td>\n",
              "      <td>0.103494</td>\n",
              "      <td>0.003981</td>\n",
              "      <td>1831.993940</td>\n",
              "      <td>1.030482e+06</td>\n",
              "      <td>1729.653287</td>\n",
              "      <td>201910.508633</td>\n",
              "      <td>...</td>\n",
              "      <td>-5.576589</td>\n",
              "      <td>72.549225</td>\n",
              "      <td>-1.838263</td>\n",
              "      <td>68.702026</td>\n",
              "      <td>-2.783800</td>\n",
              "      <td>42.447453</td>\n",
              "      <td>-3.047909</td>\n",
              "      <td>39.808784</td>\n",
              "      <td>-8.109991</td>\n",
              "      <td>46.311005</td>\n",
              "    </tr>\n",
              "    <tr>\n",
              "      <th>4</th>\n",
              "      <td>blues00006</td>\n",
              "      <td>661794</td>\n",
              "      <td>0.291328</td>\n",
              "      <td>0.093981</td>\n",
              "      <td>0.141874</td>\n",
              "      <td>0.008803</td>\n",
              "      <td>1459.366472</td>\n",
              "      <td>4.378594e+05</td>\n",
              "      <td>1389.009131</td>\n",
              "      <td>185023.239545</td>\n",
              "      <td>...</td>\n",
              "      <td>-10.068051</td>\n",
              "      <td>83.248245</td>\n",
              "      <td>-10.913176</td>\n",
              "      <td>56.902153</td>\n",
              "      <td>-6.971336</td>\n",
              "      <td>38.231800</td>\n",
              "      <td>-3.436505</td>\n",
              "      <td>48.235741</td>\n",
              "      <td>-6.483466</td>\n",
              "      <td>70.170364</td>\n",
              "    </tr>\n",
              "  </tbody>\n",
              "</table>\n",
              "<p>5 rows × 59 columns</p>\n",
              "</div>"
            ],
            "text/plain": [
              "     filename  length  chroma_stft_mean  chroma_stft_var  rms_mean   rms_var  \\\n",
              "0  blues00000  661794          0.350088         0.088757  0.130228  0.002827   \n",
              "1  blues00003  661794          0.404785         0.093999  0.141093  0.006346   \n",
              "2  blues00004  661794          0.308526         0.087841  0.091529  0.002303   \n",
              "3  blues00005  661794          0.302456         0.087532  0.103494  0.003981   \n",
              "4  blues00006  661794          0.291328         0.093981  0.141874  0.008803   \n",
              "\n",
              "   spectral_centroid_mean  spectral_centroid_var  spectral_bandwidth_mean  \\\n",
              "0             1784.165850           1.297741e+05              2002.449060   \n",
              "1             1070.106615           1.843559e+05              1596.412872   \n",
              "2             1835.004266           3.433999e+05              1748.172116   \n",
              "3             1831.993940           1.030482e+06              1729.653287   \n",
              "4             1459.366472           4.378594e+05              1389.009131   \n",
              "\n",
              "   spectral_bandwidth_var  ...  mfcc16_mean  mfcc16_var  mfcc17_mean  \\\n",
              "0            85882.761315  ...     0.752740   52.420910    -1.690215   \n",
              "1           166441.494769  ...     0.780874   44.427753    -3.319597   \n",
              "2            88445.209036  ...    -4.520576   86.099236    -5.454034   \n",
              "3           201910.508633  ...    -5.576589   72.549225    -1.838263   \n",
              "4           185023.239545  ...   -10.068051   83.248245   -10.913176   \n",
              "\n",
              "   mfcc17_var  mfcc18_mean  mfcc18_var  mfcc19_mean  mfcc19_var  mfcc20_mean  \\\n",
              "0   36.524071    -0.408979   41.597103    -2.303523   55.062923     1.221291   \n",
              "1   50.206673     0.636965   37.319130    -0.619121   37.259739    -3.407448   \n",
              "2   75.269707    -0.916874   53.613918    -4.404827   62.910812   -11.703234   \n",
              "3   68.702026    -2.783800   42.447453    -3.047909   39.808784    -8.109991   \n",
              "4   56.902153    -6.971336   38.231800    -3.436505   48.235741    -6.483466   \n",
              "\n",
              "   mfcc20_var  \n",
              "0   46.936035  \n",
              "1   31.949339  \n",
              "2   55.195160  \n",
              "3   46.311005  \n",
              "4   70.170364  \n",
              "\n",
              "[5 rows x 59 columns]"
            ]
          },
          "execution_count": 4,
          "metadata": {},
          "output_type": "execute_result"
        }
      ],
      "source": [
        "X_train.head()"
      ]
    },
    {
      "cell_type": "markdown",
      "metadata": {},
      "source": [
        "## Implementação do baseline"
      ]
    },
    {
      "cell_type": "code",
      "execution_count": 5,
      "metadata": {
        "id": "nBjRnfokYqGW"
      },
      "outputs": [],
      "source": [
        "features = dataset.columns.drop(['filename','label'])\n",
        "X_train = X_train.drop(columns= 'filename')\n",
        "X_val = X_val.drop(columns= 'filename')\n",
        "X_test = X_test.drop(columns= 'filename')"
      ]
    },
    {
      "cell_type": "markdown",
      "metadata": {
        "id": "Cd2ZSzXOddAB"
      },
      "source": [
        "---\n",
        "**PERGUNTA - É um problema desbalanceado?**: \n",
        "\n",
        "Para o problema proposto, nota-se que as classes no treino estão bem distribuídas entre si. Assim, não identifica-se um problema desbalanceado"
      ]
    },
    {
      "cell_type": "code",
      "execution_count": 6,
      "metadata": {
        "colab": {
          "base_uri": "https://localhost:8080/"
        },
        "id": "n9dT4vcsYFmN",
        "outputId": "b7b20270-15b4-4677-dd93-20ca08985b4d"
      },
      "outputs": [
        {
          "data": {
            "text/plain": [
              "jazz         0.1\n",
              "blues        0.1\n",
              "classical    0.1\n",
              "reggae       0.1\n",
              "metal        0.1\n",
              "rock         0.1\n",
              "country      0.1\n",
              "hiphop       0.1\n",
              "pop          0.1\n",
              "disco        0.1\n",
              "Name: label, dtype: float64"
            ]
          },
          "execution_count": 6,
          "metadata": {},
          "output_type": "execute_result"
        }
      ],
      "source": [
        "y_train.value_counts(normalize = True)"
      ]
    },
    {
      "cell_type": "markdown",
      "metadata": {
        "id": "GvHtIE1aiLQL"
      },
      "source": [
        "---\n",
        "**PERGUNTA - Os dados precisarão de algum tipo de pré-processamento?**: \n",
        "\n",
        "No caso do arquivo csv será necessário realizar apenas a normalização pois nosso baseline trata-se de uma SVM. Para os arquivos de imagem, é necessário fazer a extração de cores por pixel. Por fim, no caso dos arquivos de áudio, é necessário convertê-los em alguma forma interpretável como uma sequência de inteiros por frame da música."
      ]
    },
    {
      "cell_type": "markdown",
      "metadata": {
        "id": "sUUTAiBOaFob"
      },
      "source": [
        "### 5. **Implementação do Baseline**"
      ]
    },
    {
      "cell_type": "markdown",
      "metadata": {
        "id": "9pLPTlz1cPN5"
      },
      "source": [
        "Como Baseline, optou-se pelo uso de uma SVM para classificação. No caso, não foram implementadas otimizações de hiperparâmetros. A escolha da SVM foi feita pois o número de amostras disponíveis não é alto e dito algoritmo é robusto a um alto número de features"
      ]
    },
    {
      "cell_type": "code",
      "execution_count": 7,
      "metadata": {
        "id": "DKqFiWbuaQ83"
      },
      "outputs": [],
      "source": [
        "from sklearn.svm import SVC\n",
        "from sklearn import metrics"
      ]
    },
    {
      "cell_type": "code",
      "execution_count": 8,
      "metadata": {
        "id": "aJz8Y2QUaDVq"
      },
      "outputs": [],
      "source": [
        "clfBaseline = SVC()"
      ]
    },
    {
      "cell_type": "code",
      "execution_count": 9,
      "metadata": {
        "id": "ro95UucHaVwL"
      },
      "outputs": [],
      "source": [
        "from sklearn.preprocessing import StandardScaler\n",
        "\n",
        "scaler = StandardScaler()\n",
        "\n",
        "scaler.fit(X_train)\n",
        "\n",
        "scaledXtrain = scaler.transform(X_train)\n",
        "scaledXval = scaler.transform(X_val)"
      ]
    },
    {
      "cell_type": "code",
      "execution_count": 10,
      "metadata": {
        "colab": {
          "base_uri": "https://localhost:8080/"
        },
        "id": "RspOtPjuasjU",
        "outputId": "970846f0-9617-4bd6-9413-73420dfcb96c"
      },
      "outputs": [
        {
          "data": {
            "text/plain": [
              "SVC()"
            ]
          },
          "execution_count": 10,
          "metadata": {},
          "output_type": "execute_result"
        }
      ],
      "source": [
        "clfBaseline.fit(scaledXtrain, y_train)"
      ]
    },
    {
      "cell_type": "markdown",
      "metadata": {
        "id": "R7AOsPQfdfsw"
      },
      "source": [
        "---\n",
        "**PERGUNTA - Quais as métricas utilizadas neste problema? Acurácia, erro, MSRE, etc.? O que elas significam?**: \n",
        "\n",
        "Para o problema proposto é possível a aplicação de métricas como acurácia balanceada, recall, precisão e f1-score. O significado de cada uma é apresentado abaixo:\n",
        "\n",
        "1.   Acurácia: Média de TP/(TP + TN + FP + FN) entre as classes\n",
        "2.   Recall: TP / FN + TP\n",
        "3.   Precisão: TP / TP + FP\n",
        "4.   F1-Score: Média harmônica de recall e precisão\n",
        "\n"
      ]
    },
    {
      "cell_type": "code",
      "execution_count": 11,
      "metadata": {
        "colab": {
          "base_uri": "https://localhost:8080/"
        },
        "id": "q6ogqHY-a7v4",
        "outputId": "fa41fb52-f70c-4f34-8049-c39dbb7c2fb4"
      },
      "outputs": [
        {
          "name": "stdout",
          "output_type": "stream",
          "text": [
            "              precision    recall  f1-score   support\n",
            "\n",
            "       blues       0.79      0.73      0.76        15\n",
            "   classical       1.00      1.00      1.00        15\n",
            "     country       0.92      0.80      0.86        15\n",
            "       disco       0.50      0.53      0.52        15\n",
            "      hiphop       0.79      0.73      0.76        15\n",
            "        jazz       0.82      0.93      0.87        15\n",
            "       metal       0.69      0.73      0.71        15\n",
            "         pop       0.92      0.73      0.81        15\n",
            "      reggae       0.65      0.73      0.69        15\n",
            "        rock       0.56      0.60      0.58        15\n",
            "\n",
            "    accuracy                           0.75       150\n",
            "   macro avg       0.76      0.75      0.76       150\n",
            "weighted avg       0.76      0.75      0.76       150\n",
            "\n"
          ]
        }
      ],
      "source": [
        "resultados = clfBaseline.predict(scaledXval)\n",
        "print(metrics.classification_report(y_val,resultados))"
      ]
    },
    {
      "cell_type": "code",
      "execution_count": 12,
      "metadata": {
        "colab": {
          "base_uri": "https://localhost:8080/"
        },
        "id": "6SXfIhaZeu2r",
        "outputId": "da8c041c-461a-4bd9-cd18-f76db8b350c7"
      },
      "outputs": [
        {
          "name": "stdout",
          "output_type": "stream",
          "text": [
            "0.7533333333333332\n"
          ]
        }
      ],
      "source": [
        "print(metrics.balanced_accuracy_score(y_val,resultados))"
      ]
    },
    {
      "cell_type": "markdown",
      "metadata": {
        "id": "qgEEpb07cjOj"
      },
      "source": [
        "Avaliando os resultados acima, nota-se um resultado muito satisfatório para o Baseline. As métricas de acurácia, recall e precisão ficaram em torno de ~0.7 o que é muito positivo dado o grau de complexidade limitado para o modelo."
      ]
    }
  ],
  "metadata": {
    "colab": {
      "collapsed_sections": [],
      "name": "Music Genre Classification - MASTER.ipynb",
      "provenance": [],
      "toc_visible": true
    },
    "kernelspec": {
      "display_name": "Python 3",
      "name": "python3"
    },
    "language_info": {
      "codemirror_mode": {
        "name": "ipython",
        "version": 3
      },
      "file_extension": ".py",
      "mimetype": "text/x-python",
      "name": "python",
      "nbconvert_exporter": "python",
      "pygments_lexer": "ipython3",
      "version": "3.8.8"
    }
  },
  "nbformat": 4,
  "nbformat_minor": 0
}
