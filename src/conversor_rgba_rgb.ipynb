{
  "cells": [
    {
      "cell_type": "markdown",
      "metadata": {
        "id": "Rn7eAp7u2dYV"
      },
      "source": [
        "# **Conversor RGBA para RGB**"
      ]
    },
    {
      "cell_type": "code",
      "execution_count": 2,
      "metadata": {},
      "outputs": [
        {
          "name": "stdout",
          "output_type": "stream",
          "text": [
            "blues 100\n",
            "classical 100\n",
            "country 100\n",
            "disco 100\n",
            "hiphop 100\n",
            "jazz 99\n",
            "metal 100\n",
            "pop 100\n",
            "reggae 100\n",
            "rock 100\n"
          ]
        }
      ],
      "source": [
        "import os\n",
        "from PIL import Image\n",
        "\n",
        "folder_path = '../dataset/Data/images_original/'\n",
        "genre_folders = os.listdir(folder_path)\n",
        "\n",
        "os.mkdir('../dataset/Data/images_rgb/')\n",
        "\n",
        "for genre_folder in genre_folders:\n",
        "  \n",
        "  files = os.listdir(folder_path + genre_folder)\n",
        "  print(genre_folder, len(files))\n",
        "  \n",
        "  for image in files:\n",
        "    \n",
        "    png = Image.open(folder_path + genre_folder+ \"/\" +image)\n",
        "    png.load() \n",
        "\n",
        "    background = Image.new(\"RGB\", png.size, (255, 255, 255))\n",
        "    background.paste(png, mask=png.split()[3]) # 3 is the alpha channel\n",
        "\n",
        "    path = '../dataset/Data/images_rgb/' + genre_folder\n",
        "\n",
        "    if not os.path.exists(path):\n",
        "      os.mkdir(path)\n",
        "\n",
        "    background.save('../dataset/Data/images_rgb/' + genre_folder + '/' + image, 'JPEG')"
      ]
    }
  ],
  "metadata": {
    "colab": {
      "collapsed_sections": [],
      "name": "Music Genre Classification - MASTER.ipynb",
      "provenance": [],
      "toc_visible": true
    },
    "kernelspec": {
      "display_name": "Python 3",
      "name": "python3"
    },
    "language_info": {
      "codemirror_mode": {
        "name": "ipython",
        "version": 3
      },
      "file_extension": ".py",
      "mimetype": "text/x-python",
      "name": "python",
      "nbconvert_exporter": "python",
      "pygments_lexer": "ipython3",
      "version": "3.8.8"
    }
  },
  "nbformat": 4,
  "nbformat_minor": 0
}
