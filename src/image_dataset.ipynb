{
  "cells": [
    {
      "cell_type": "markdown",
      "metadata": {
        "id": "Rn7eAp7u2dYV"
      },
      "source": [
        "# **Image Dataset**"
      ]
    },
    {
      "cell_type": "markdown",
      "metadata": {
        "id": "eZJ6oHBI32yx"
      },
      "source": [
        "## Importação de pacotes e leitura dos dados"
      ]
    },
    {
      "cell_type": "code",
      "execution_count": 1,
      "metadata": {
        "id": "D1bAlzyDUL2q"
      },
      "outputs": [],
      "source": [
        "import numpy as np\n",
        "import pandas as pd\n",
        "from sklearn.model_selection import train_test_split\n"
      ]
    },
    {
      "cell_type": "markdown",
      "metadata": {},
      "source": [
        "### Função auxiliar para separação dos conjuntos de dados"
      ]
    },
    {
      "cell_type": "code",
      "execution_count": 2,
      "metadata": {},
      "outputs": [],
      "source": [
        "def get_features_target_data(df, indexes_path):\n",
        "\n",
        "    indexes = pd.read_csv(indexes_path)\n",
        "\n",
        "    filtered_df = df.filter(items = indexes.sample_index, axis=0)\n",
        "\n",
        "    X = filtered_df.drop(columns= 'label')\n",
        "    y = filtered_df['label']\n",
        "\n",
        "    return X, y\n",
        "\n",
        "def get_train_val_set_data(df):\n",
        "\n",
        "    X_train, y_train = get_features_target_data(df, '../dataset/Data/train_indexes.csv')\n",
        "    X_val, y_val = get_features_target_data(df, '../dataset/Data/val_indexes.csv')\n",
        "    X_test, y_test = get_features_target_data(df, '../dataset/Data/test_indexes.csv')\n",
        "\n",
        "    return X_train, y_train, X_val, y_val, X_test, y_test"
      ]
    },
    {
      "cell_type": "markdown",
      "metadata": {},
      "source": [
        "### Leitura dos dados e separação em treino, validação e test"
      ]
    },
    {
      "cell_type": "code",
      "execution_count": 3,
      "metadata": {},
      "outputs": [],
      "source": [
        "dataset = pd.read_csv('../dataset/Data/features_30_sec.csv')"
      ]
    },
    {
      "cell_type": "code",
      "execution_count": 4,
      "metadata": {},
      "outputs": [],
      "source": [
        "X_train, y_train, X_val, y_val, X_test, y_test = get_train_val_set_data(dataset)"
      ]
    },
    {
      "cell_type": "code",
      "execution_count": 5,
      "metadata": {},
      "outputs": [
        {
          "data": {
            "text/html": [
              "<div>\n",
              "<style scoped>\n",
              "    .dataframe tbody tr th:only-of-type {\n",
              "        vertical-align: middle;\n",
              "    }\n",
              "\n",
              "    .dataframe tbody tr th {\n",
              "        vertical-align: top;\n",
              "    }\n",
              "\n",
              "    .dataframe thead th {\n",
              "        text-align: right;\n",
              "    }\n",
              "</style>\n",
              "<table border=\"1\" class=\"dataframe\">\n",
              "  <thead>\n",
              "    <tr style=\"text-align: right;\">\n",
              "      <th></th>\n",
              "      <th>filename</th>\n",
              "      <th>length</th>\n",
              "      <th>chroma_stft_mean</th>\n",
              "      <th>chroma_stft_var</th>\n",
              "      <th>rms_mean</th>\n",
              "      <th>rms_var</th>\n",
              "      <th>spectral_centroid_mean</th>\n",
              "      <th>spectral_centroid_var</th>\n",
              "      <th>spectral_bandwidth_mean</th>\n",
              "      <th>spectral_bandwidth_var</th>\n",
              "      <th>...</th>\n",
              "      <th>mfcc16_mean</th>\n",
              "      <th>mfcc16_var</th>\n",
              "      <th>mfcc17_mean</th>\n",
              "      <th>mfcc17_var</th>\n",
              "      <th>mfcc18_mean</th>\n",
              "      <th>mfcc18_var</th>\n",
              "      <th>mfcc19_mean</th>\n",
              "      <th>mfcc19_var</th>\n",
              "      <th>mfcc20_mean</th>\n",
              "      <th>mfcc20_var</th>\n",
              "    </tr>\n",
              "  </thead>\n",
              "  <tbody>\n",
              "    <tr>\n",
              "      <th>823</th>\n",
              "      <td>reggae.00023.wav</td>\n",
              "      <td>661794</td>\n",
              "      <td>0.428635</td>\n",
              "      <td>0.089221</td>\n",
              "      <td>0.107873</td>\n",
              "      <td>0.002750</td>\n",
              "      <td>2354.780333</td>\n",
              "      <td>738663.782474</td>\n",
              "      <td>2336.461430</td>\n",
              "      <td>135041.508993</td>\n",
              "      <td>...</td>\n",
              "      <td>9.143028</td>\n",
              "      <td>55.996277</td>\n",
              "      <td>-7.756232</td>\n",
              "      <td>54.388203</td>\n",
              "      <td>0.631764</td>\n",
              "      <td>61.935009</td>\n",
              "      <td>-4.122077</td>\n",
              "      <td>67.025398</td>\n",
              "      <td>0.496620</td>\n",
              "      <td>110.006645</td>\n",
              "    </tr>\n",
              "    <tr>\n",
              "      <th>241</th>\n",
              "      <td>country.00041.wav</td>\n",
              "      <td>661794</td>\n",
              "      <td>0.397855</td>\n",
              "      <td>0.082284</td>\n",
              "      <td>0.113301</td>\n",
              "      <td>0.000587</td>\n",
              "      <td>2634.080774</td>\n",
              "      <td>820747.026509</td>\n",
              "      <td>2898.541576</td>\n",
              "      <td>233608.971679</td>\n",
              "      <td>...</td>\n",
              "      <td>0.558818</td>\n",
              "      <td>42.996780</td>\n",
              "      <td>-2.325614</td>\n",
              "      <td>41.673706</td>\n",
              "      <td>-4.613111</td>\n",
              "      <td>41.339603</td>\n",
              "      <td>-0.618727</td>\n",
              "      <td>29.171967</td>\n",
              "      <td>-4.939899</td>\n",
              "      <td>29.804676</td>\n",
              "    </tr>\n",
              "    <tr>\n",
              "      <th>181</th>\n",
              "      <td>classical.00081.wav</td>\n",
              "      <td>661794</td>\n",
              "      <td>0.266827</td>\n",
              "      <td>0.084227</td>\n",
              "      <td>0.016546</td>\n",
              "      <td>0.000050</td>\n",
              "      <td>1213.971712</td>\n",
              "      <td>83056.685521</td>\n",
              "      <td>1539.592686</td>\n",
              "      <td>54396.267455</td>\n",
              "      <td>...</td>\n",
              "      <td>-2.286594</td>\n",
              "      <td>46.745155</td>\n",
              "      <td>-3.124706</td>\n",
              "      <td>54.713120</td>\n",
              "      <td>-0.213338</td>\n",
              "      <td>67.064110</td>\n",
              "      <td>2.632269</td>\n",
              "      <td>75.738228</td>\n",
              "      <td>1.816808</td>\n",
              "      <td>102.780624</td>\n",
              "    </tr>\n",
              "    <tr>\n",
              "      <th>103</th>\n",
              "      <td>classical.00003.wav</td>\n",
              "      <td>661794</td>\n",
              "      <td>0.234229</td>\n",
              "      <td>0.083451</td>\n",
              "      <td>0.029442</td>\n",
              "      <td>0.000357</td>\n",
              "      <td>1526.629882</td>\n",
              "      <td>91344.309888</td>\n",
              "      <td>1499.439342</td>\n",
              "      <td>60196.227560</td>\n",
              "      <td>...</td>\n",
              "      <td>1.499585</td>\n",
              "      <td>125.197098</td>\n",
              "      <td>0.597389</td>\n",
              "      <td>111.539612</td>\n",
              "      <td>-0.595684</td>\n",
              "      <td>151.719910</td>\n",
              "      <td>2.341259</td>\n",
              "      <td>133.902283</td>\n",
              "      <td>2.640536</td>\n",
              "      <td>210.365616</td>\n",
              "    </tr>\n",
              "    <tr>\n",
              "      <th>456</th>\n",
              "      <td>hiphop.00056.wav</td>\n",
              "      <td>661794</td>\n",
              "      <td>0.491658</td>\n",
              "      <td>0.086806</td>\n",
              "      <td>0.166640</td>\n",
              "      <td>0.001742</td>\n",
              "      <td>2355.729244</td>\n",
              "      <td>355112.573212</td>\n",
              "      <td>2497.062588</td>\n",
              "      <td>112732.414725</td>\n",
              "      <td>...</td>\n",
              "      <td>2.313654</td>\n",
              "      <td>34.634190</td>\n",
              "      <td>-2.811913</td>\n",
              "      <td>28.848858</td>\n",
              "      <td>1.763052</td>\n",
              "      <td>43.351460</td>\n",
              "      <td>0.856901</td>\n",
              "      <td>35.401611</td>\n",
              "      <td>-4.358317</td>\n",
              "      <td>49.211880</td>\n",
              "    </tr>\n",
              "  </tbody>\n",
              "</table>\n",
              "<p>5 rows × 59 columns</p>\n",
              "</div>"
            ],
            "text/plain": [
              "                filename  length  chroma_stft_mean  chroma_stft_var  rms_mean  \\\n",
              "823     reggae.00023.wav  661794          0.428635         0.089221  0.107873   \n",
              "241    country.00041.wav  661794          0.397855         0.082284  0.113301   \n",
              "181  classical.00081.wav  661794          0.266827         0.084227  0.016546   \n",
              "103  classical.00003.wav  661794          0.234229         0.083451  0.029442   \n",
              "456     hiphop.00056.wav  661794          0.491658         0.086806  0.166640   \n",
              "\n",
              "      rms_var  spectral_centroid_mean  spectral_centroid_var  \\\n",
              "823  0.002750             2354.780333          738663.782474   \n",
              "241  0.000587             2634.080774          820747.026509   \n",
              "181  0.000050             1213.971712           83056.685521   \n",
              "103  0.000357             1526.629882           91344.309888   \n",
              "456  0.001742             2355.729244          355112.573212   \n",
              "\n",
              "     spectral_bandwidth_mean  spectral_bandwidth_var  ...  mfcc16_mean  \\\n",
              "823              2336.461430           135041.508993  ...     9.143028   \n",
              "241              2898.541576           233608.971679  ...     0.558818   \n",
              "181              1539.592686            54396.267455  ...    -2.286594   \n",
              "103              1499.439342            60196.227560  ...     1.499585   \n",
              "456              2497.062588           112732.414725  ...     2.313654   \n",
              "\n",
              "     mfcc16_var  mfcc17_mean  mfcc17_var  mfcc18_mean  mfcc18_var  \\\n",
              "823   55.996277    -7.756232   54.388203     0.631764   61.935009   \n",
              "241   42.996780    -2.325614   41.673706    -4.613111   41.339603   \n",
              "181   46.745155    -3.124706   54.713120    -0.213338   67.064110   \n",
              "103  125.197098     0.597389  111.539612    -0.595684  151.719910   \n",
              "456   34.634190    -2.811913   28.848858     1.763052   43.351460   \n",
              "\n",
              "     mfcc19_mean  mfcc19_var  mfcc20_mean  mfcc20_var  \n",
              "823    -4.122077   67.025398     0.496620  110.006645  \n",
              "241    -0.618727   29.171967    -4.939899   29.804676  \n",
              "181     2.632269   75.738228     1.816808  102.780624  \n",
              "103     2.341259  133.902283     2.640536  210.365616  \n",
              "456     0.856901   35.401611    -4.358317   49.211880  \n",
              "\n",
              "[5 rows x 59 columns]"
            ]
          },
          "execution_count": 5,
          "metadata": {},
          "output_type": "execute_result"
        }
      ],
      "source": [
        "X_train.head()"
      ]
    },
    {
      "cell_type": "markdown",
      "metadata": {},
      "source": [
        "## Implementação do baseline"
      ]
    },
    {
      "cell_type": "code",
      "execution_count": 6,
      "metadata": {
        "id": "nBjRnfokYqGW"
      },
      "outputs": [],
      "source": [
        "features = dataset.columns.drop(['filename','label'])\n",
        "X_train = X_train.drop(columns= 'filename')\n",
        "X_val = X_val.drop(columns= 'filename')\n",
        "X_test = X_test.drop(columns= 'filename')"
      ]
    },
    {
      "cell_type": "markdown",
      "metadata": {
        "id": "Cd2ZSzXOddAB"
      },
      "source": [
        "---\n",
        "**PERGUNTA - É um problema desbalanceado?**: \n",
        "\n",
        "Para o problema proposto, nota-se que as classes no treino estão bem distribuídas entre si. Assim, não identifica-se um problema desbalanceado"
      ]
    },
    {
      "cell_type": "code",
      "execution_count": 7,
      "metadata": {
        "colab": {
          "base_uri": "https://localhost:8080/"
        },
        "id": "n9dT4vcsYFmN",
        "outputId": "b7b20270-15b4-4677-dd93-20ca08985b4d"
      },
      "outputs": [
        {
          "data": {
            "text/plain": [
              "classical    0.1\n",
              "hiphop       0.1\n",
              "pop          0.1\n",
              "country      0.1\n",
              "reggae       0.1\n",
              "blues        0.1\n",
              "disco        0.1\n",
              "metal        0.1\n",
              "rock         0.1\n",
              "jazz         0.1\n",
              "Name: label, dtype: float64"
            ]
          },
          "execution_count": 7,
          "metadata": {},
          "output_type": "execute_result"
        }
      ],
      "source": [
        "y_train.value_counts(normalize = True)"
      ]
    },
    {
      "cell_type": "markdown",
      "metadata": {
        "id": "GvHtIE1aiLQL"
      },
      "source": [
        "---\n",
        "**PERGUNTA - Os dados precisarão de algum tipo de pré-processamento?**: \n",
        "\n",
        "No caso do arquivo csv será necessário realizar apenas a normalização pois nosso baseline trata-se de uma SVM. Para os arquivos de imagem, é necessário fazer a extração de cores por pixel. Por fim, no caso dos arquivos de áudio, é necessário convertê-los em alguma forma interpretável como uma sequência de inteiros por frame da música."
      ]
    },
    {
      "cell_type": "markdown",
      "metadata": {
        "id": "sUUTAiBOaFob"
      },
      "source": [
        "### 5. **Implementação do Baseline**"
      ]
    },
    {
      "cell_type": "markdown",
      "metadata": {
        "id": "9pLPTlz1cPN5"
      },
      "source": [
        "Como Baseline, optou-se pelo uso de uma SVM para classificação. No caso, não foram implementadas otimizações de hiperparâmetros. A escolha da SVM foi feita pois o número de amostras disponíveis não é alto e dito algoritmo é robusto a um alto número de features"
      ]
    },
    {
      "cell_type": "code",
      "execution_count": 8,
      "metadata": {
        "id": "DKqFiWbuaQ83"
      },
      "outputs": [],
      "source": [
        "from sklearn.svm import SVC\n",
        "from sklearn import metrics"
      ]
    },
    {
      "cell_type": "code",
      "execution_count": 9,
      "metadata": {
        "id": "aJz8Y2QUaDVq"
      },
      "outputs": [],
      "source": [
        "clfBaseline = SVC()"
      ]
    },
    {
      "cell_type": "code",
      "execution_count": 10,
      "metadata": {
        "id": "ro95UucHaVwL"
      },
      "outputs": [],
      "source": [
        "from sklearn.preprocessing import StandardScaler\n",
        "\n",
        "scaler = StandardScaler()\n",
        "\n",
        "scaler.fit(X_train)\n",
        "\n",
        "scaledXtrain = scaler.transform(X_train)\n",
        "scaledXval = scaler.transform(X_val)"
      ]
    },
    {
      "cell_type": "code",
      "execution_count": 11,
      "metadata": {
        "colab": {
          "base_uri": "https://localhost:8080/"
        },
        "id": "RspOtPjuasjU",
        "outputId": "970846f0-9617-4bd6-9413-73420dfcb96c"
      },
      "outputs": [
        {
          "data": {
            "text/plain": [
              "SVC()"
            ]
          },
          "execution_count": 11,
          "metadata": {},
          "output_type": "execute_result"
        }
      ],
      "source": [
        "clfBaseline.fit(scaledXtrain, y_train)"
      ]
    },
    {
      "cell_type": "markdown",
      "metadata": {
        "id": "R7AOsPQfdfsw"
      },
      "source": [
        "---\n",
        "**PERGUNTA - Quais as métricas utilizadas neste problema? Acurácia, erro, MSRE, etc.? O que elas significam?**: \n",
        "\n",
        "Para o problema proposto é possível a aplicação de métricas como acurácia balanceada, recall, precisão e f1-score. O significado de cada uma é apresentado abaixo:\n",
        "\n",
        "1.   Acurácia: Média de TP/(TP + TN + FP + FN) entre as classes\n",
        "2.   Recall: TP / FN + TP\n",
        "3.   Precisão: TP / TP + FP\n",
        "4.   F1-Score: Média harmônica de recall e precisão\n",
        "\n"
      ]
    },
    {
      "cell_type": "code",
      "execution_count": 12,
      "metadata": {
        "colab": {
          "base_uri": "https://localhost:8080/"
        },
        "id": "q6ogqHY-a7v4",
        "outputId": "fa41fb52-f70c-4f34-8049-c39dbb7c2fb4"
      },
      "outputs": [
        {
          "name": "stdout",
          "output_type": "stream",
          "text": [
            "              precision    recall  f1-score   support\n",
            "\n",
            "       blues       0.79      0.73      0.76        15\n",
            "   classical       1.00      1.00      1.00        15\n",
            "     country       0.92      0.80      0.86        15\n",
            "       disco       0.50      0.53      0.52        15\n",
            "      hiphop       0.79      0.73      0.76        15\n",
            "        jazz       0.82      0.93      0.87        15\n",
            "       metal       0.69      0.73      0.71        15\n",
            "         pop       0.92      0.73      0.81        15\n",
            "      reggae       0.65      0.73      0.69        15\n",
            "        rock       0.56      0.60      0.58        15\n",
            "\n",
            "    accuracy                           0.75       150\n",
            "   macro avg       0.76      0.75      0.76       150\n",
            "weighted avg       0.76      0.75      0.76       150\n",
            "\n"
          ]
        }
      ],
      "source": [
        "resultados = clfBaseline.predict(scaledXval)\n",
        "print(metrics.classification_report(y_val,resultados))"
      ]
    },
    {
      "cell_type": "code",
      "execution_count": 13,
      "metadata": {
        "colab": {
          "base_uri": "https://localhost:8080/"
        },
        "id": "6SXfIhaZeu2r",
        "outputId": "da8c041c-461a-4bd9-cd18-f76db8b350c7"
      },
      "outputs": [
        {
          "name": "stdout",
          "output_type": "stream",
          "text": [
            "0.7533333333333332\n"
          ]
        }
      ],
      "source": [
        "print(metrics.balanced_accuracy_score(y_val,resultados))"
      ]
    },
    {
      "cell_type": "markdown",
      "metadata": {
        "id": "qgEEpb07cjOj"
      },
      "source": [
        "Avaliando os resultados acima, nota-se um resultado muito satisfatório para o Baseline. As métricas de acurácia, recall e precisão ficaram em torno de ~0.7 o que é muito positivo dado o grau de complexidade limitado para o modelo."
      ]
    }
  ],
  "metadata": {
    "colab": {
      "collapsed_sections": [],
      "name": "Music Genre Classification - MASTER.ipynb",
      "provenance": [],
      "toc_visible": true
    },
    "kernelspec": {
      "display_name": "Python 3",
      "name": "python3"
    },
    "language_info": {
      "codemirror_mode": {
        "name": "ipython",
        "version": 3
      },
      "file_extension": ".py",
      "mimetype": "text/x-python",
      "name": "python",
      "nbconvert_exporter": "python",
      "pygments_lexer": "ipython3",
      "version": "3.8.8"
    }
  },
  "nbformat": 4,
  "nbformat_minor": 0
}
