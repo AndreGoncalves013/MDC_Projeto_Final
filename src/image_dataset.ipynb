{
  "cells": [
    {
      "cell_type": "markdown",
      "metadata": {
        "id": "Rn7eAp7u2dYV"
      },
      "source": [
        "# **Image Dataset**"
      ]
    },
    {
      "cell_type": "markdown",
      "metadata": {
        "id": "eZJ6oHBI32yx"
      },
      "source": [
        "## Importação de pacotes e leitura dos dados"
      ]
    },
    {
      "cell_type": "code",
      "execution_count": 10,
      "metadata": {
        "id": "D1bAlzyDUL2q"
      },
      "outputs": [],
      "source": [
        "import numpy as np\n",
        "import pandas as pd\n",
        "import os\n",
        "import imageio\n"
      ]
    },
    {
      "cell_type": "markdown",
      "metadata": {},
      "source": [
        "### Função auxiliar para separação dos conjuntos de dados"
      ]
    },
    {
      "cell_type": "code",
      "execution_count": 2,
      "metadata": {},
      "outputs": [],
      "source": [
        "def get_features_target_data(df, indexes_path):\n",
        "\n",
        "    indexes = pd.read_csv(indexes_path)\n",
        "\n",
        "    filtered_df = df.filter(items = indexes.sample_index, axis=0)\n",
        "\n",
        "    X = filtered_df.drop(columns= 'label')\n",
        "    y = filtered_df['label']\n",
        "\n",
        "    return X, y\n",
        "\n",
        "def get_train_val_set_data(df):\n",
        "\n",
        "    X_train, y_train = get_features_target_data(df, '../dataset/Data/train_indexes.csv')\n",
        "    X_val, y_val = get_features_target_data(df, '../dataset/Data/val_indexes.csv')\n",
        "    X_test, y_test = get_features_target_data(df, '../dataset/Data/test_indexes.csv')\n",
        "\n",
        "    return X_train, y_train, X_val, y_val, X_test, y_test"
      ]
    },
    {
      "cell_type": "markdown",
      "metadata": {},
      "source": [
        "### Leitura dos dados e separação em treino, validação e test"
      ]
    },
    {
      "cell_type": "code",
      "execution_count": 16,
      "metadata": {},
      "outputs": [
        {
          "name": "stdout",
          "output_type": "stream",
          "text": [
            "blues 100\n",
            "classical 100\n",
            "country 100\n",
            "disco 100\n",
            "hiphop 100\n",
            "jazz 99\n",
            "metal 100\n",
            "pop 100\n",
            "reggae 100\n",
            "rock 100\n"
          ]
        }
      ],
      "source": [
        "from PIL import Image\n",
        "\n",
        "folder_path = '../dataset/Data/images_original/'\n",
        "genre_folders = os.listdir(folder_path)\n",
        "\n",
        "for genre_folder in genre_folders:\n",
        "  \n",
        "  files = os.listdir(folder_path + genre_folder)\n",
        "  print(genre_folder, len(files))\n",
        "  \n",
        "  for image in files:\n",
        "    \n",
        "    png = Image.open(folder_path + genre_folder+ \"/\" +image)\n",
        "    png.load() # required for png.split()\n",
        "\n",
        "    background = Image.new(\"RGB\", png.size, (255, 255, 255))\n",
        "    background.paste(png, mask=png.split()[3]) # 3 is the alpha channel\n",
        "\n",
        "    background.save('../dataset/Data/images_rgb/' + image, 'JPEG')"
      ]
    },
    {
      "cell_type": "code",
      "execution_count": 17,
      "metadata": {},
      "outputs": [],
      "source": [
        "folder_path = '../dataset/Data/images_rgb/'\n",
        "genre_folders = os.listdir(folder_path)"
      ]
    },
    {
      "cell_type": "code",
      "execution_count": 18,
      "metadata": {},
      "outputs": [
        {
          "ename": "NotADirectoryError",
          "evalue": "[WinError 267] The directory name is invalid: '../dataset/Data/images_rgb/blues00000.png'",
          "output_type": "error",
          "traceback": [
            "\u001b[1;31m---------------------------------------------------------------------------\u001b[0m",
            "\u001b[1;31mNotADirectoryError\u001b[0m                        Traceback (most recent call last)",
            "\u001b[1;32m<ipython-input-18-58acce80945d>\u001b[0m in \u001b[0;36m<module>\u001b[1;34m\u001b[0m\n\u001b[0;32m      4\u001b[0m \u001b[1;32mfor\u001b[0m \u001b[0mgenre_folder\u001b[0m \u001b[1;32min\u001b[0m \u001b[0mgenre_folders\u001b[0m\u001b[1;33m:\u001b[0m\u001b[1;33m\u001b[0m\u001b[1;33m\u001b[0m\u001b[0m\n\u001b[0;32m      5\u001b[0m \u001b[1;33m\u001b[0m\u001b[0m\n\u001b[1;32m----> 6\u001b[1;33m   \u001b[0mfiles\u001b[0m \u001b[1;33m=\u001b[0m \u001b[0mos\u001b[0m\u001b[1;33m.\u001b[0m\u001b[0mlistdir\u001b[0m\u001b[1;33m(\u001b[0m\u001b[0mfolder_path\u001b[0m \u001b[1;33m+\u001b[0m \u001b[0mgenre_folder\u001b[0m\u001b[1;33m)\u001b[0m\u001b[1;33m\u001b[0m\u001b[1;33m\u001b[0m\u001b[0m\n\u001b[0m\u001b[0;32m      7\u001b[0m   \u001b[0mprint\u001b[0m\u001b[1;33m(\u001b[0m\u001b[0mgenre_folder\u001b[0m\u001b[1;33m,\u001b[0m \u001b[0mlen\u001b[0m\u001b[1;33m(\u001b[0m\u001b[0mfiles\u001b[0m\u001b[1;33m)\u001b[0m\u001b[1;33m)\u001b[0m\u001b[1;33m\u001b[0m\u001b[1;33m\u001b[0m\u001b[0m\n\u001b[0;32m      8\u001b[0m \u001b[1;33m\u001b[0m\u001b[0m\n",
            "\u001b[1;31mNotADirectoryError\u001b[0m: [WinError 267] The directory name is invalid: '../dataset/Data/images_rgb/blues00000.png'"
          ]
        }
      ],
      "source": [
        "\n",
        "\n",
        "file_values = []\n",
        "file_name = []\n",
        "\n",
        "for genre_folder in genre_folders:\n",
        "  \n",
        "  files = os.listdir(folder_path + genre_folder)\n",
        "  print(genre_folder, len(files))\n",
        "  \n",
        "  for image in files:\n",
        "    im = imageio.imread(folder_path + genre_folder+ \"/\" +image)\n",
        "    file_values.append(im)\n",
        "    file_name.append(image)"
      ]
    },
    {
      "cell_type": "code",
      "execution_count": 13,
      "metadata": {},
      "outputs": [],
      "source": [
        "df_dict = {\n",
        "    'file_name': file_name,\n",
        "    'file_values': file_values\n",
        "}\n",
        "\n",
        "df = pd.DataFrame(df_dict)"
      ]
    },
    {
      "cell_type": "code",
      "execution_count": 14,
      "metadata": {},
      "outputs": [
        {
          "data": {
            "text/html": [
              "<div>\n",
              "<style scoped>\n",
              "    .dataframe tbody tr th:only-of-type {\n",
              "        vertical-align: middle;\n",
              "    }\n",
              "\n",
              "    .dataframe tbody tr th {\n",
              "        vertical-align: top;\n",
              "    }\n",
              "\n",
              "    .dataframe thead th {\n",
              "        text-align: right;\n",
              "    }\n",
              "</style>\n",
              "<table border=\"1\" class=\"dataframe\">\n",
              "  <thead>\n",
              "    <tr style=\"text-align: right;\">\n",
              "      <th></th>\n",
              "      <th>file_name</th>\n",
              "      <th>file_values</th>\n",
              "    </tr>\n",
              "  </thead>\n",
              "  <tbody>\n",
              "    <tr>\n",
              "      <th>0</th>\n",
              "      <td>blues00000.png</td>\n",
              "      <td>[[[255, 255, 255, 255], [255, 255, 255, 255], ...</td>\n",
              "    </tr>\n",
              "    <tr>\n",
              "      <th>1</th>\n",
              "      <td>blues00001.png</td>\n",
              "      <td>[[[255, 255, 255, 255], [255, 255, 255, 255], ...</td>\n",
              "    </tr>\n",
              "    <tr>\n",
              "      <th>2</th>\n",
              "      <td>blues00002.png</td>\n",
              "      <td>[[[255, 255, 255, 255], [255, 255, 255, 255], ...</td>\n",
              "    </tr>\n",
              "    <tr>\n",
              "      <th>3</th>\n",
              "      <td>blues00003.png</td>\n",
              "      <td>[[[255, 255, 255, 255], [255, 255, 255, 255], ...</td>\n",
              "    </tr>\n",
              "    <tr>\n",
              "      <th>4</th>\n",
              "      <td>blues00004.png</td>\n",
              "      <td>[[[255, 255, 255, 255], [255, 255, 255, 255], ...</td>\n",
              "    </tr>\n",
              "  </tbody>\n",
              "</table>\n",
              "</div>"
            ],
            "text/plain": [
              "        file_name                                        file_values\n",
              "0  blues00000.png  [[[255, 255, 255, 255], [255, 255, 255, 255], ...\n",
              "1  blues00001.png  [[[255, 255, 255, 255], [255, 255, 255, 255], ...\n",
              "2  blues00002.png  [[[255, 255, 255, 255], [255, 255, 255, 255], ...\n",
              "3  blues00003.png  [[[255, 255, 255, 255], [255, 255, 255, 255], ...\n",
              "4  blues00004.png  [[[255, 255, 255, 255], [255, 255, 255, 255], ..."
            ]
          },
          "execution_count": 14,
          "metadata": {},
          "output_type": "execute_result"
        }
      ],
      "source": [
        "df.head()"
      ]
    },
    {
      "cell_type": "code",
      "execution_count": 3,
      "metadata": {},
      "outputs": [],
      "source": [
        "dataset = pd.read_csv('../dataset/Data/features_30_sec.csv')"
      ]
    },
    {
      "cell_type": "code",
      "execution_count": 4,
      "metadata": {},
      "outputs": [],
      "source": [
        "X_train, y_train, X_val, y_val, X_test, y_test = get_train_val_set_data(dataset)"
      ]
    }
  ],
  "metadata": {
    "colab": {
      "collapsed_sections": [],
      "name": "Music Genre Classification - MASTER.ipynb",
      "provenance": [],
      "toc_visible": true
    },
    "kernelspec": {
      "display_name": "Python 3",
      "name": "python3"
    },
    "language_info": {
      "codemirror_mode": {
        "name": "ipython",
        "version": 3
      },
      "file_extension": ".py",
      "mimetype": "text/x-python",
      "name": "python",
      "nbconvert_exporter": "python",
      "pygments_lexer": "ipython3",
      "version": "3.8.8"
    }
  },
  "nbformat": 4,
  "nbformat_minor": 0
}
