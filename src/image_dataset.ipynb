{
  "cells": [
    {
      "cell_type": "markdown",
      "metadata": {
        "id": "Rn7eAp7u2dYV"
      },
      "source": [
        "# **Image Dataset**"
      ]
    },
    {
      "cell_type": "markdown",
      "metadata": {
        "id": "eZJ6oHBI32yx"
      },
      "source": [
        "## Importação de pacotes e leitura dos dados"
      ]
    },
    {
      "cell_type": "code",
      "execution_count": 1,
      "metadata": {
        "id": "D1bAlzyDUL2q"
      },
      "outputs": [],
      "source": [
        "import numpy as np\n",
        "import pandas as pd\n",
        "import os\n",
        "import imageio\n",
        "from utils import get_train_val_set_data\n"
      ]
    },
    {
      "cell_type": "markdown",
      "metadata": {},
      "source": [
        "### Lendo as imagens em formato RGB"
      ]
    },
    {
      "cell_type": "code",
      "execution_count": 2,
      "metadata": {},
      "outputs": [
        {
          "name": "stdout",
          "output_type": "stream",
          "text": [
            "blues 100\n",
            "classical 100\n",
            "country 100\n",
            "disco 100\n",
            "hiphop 100\n",
            "jazz 99\n",
            "metal 100\n",
            "pop 100\n",
            "reggae 100\n",
            "rock 100\n"
          ]
        }
      ],
      "source": [
        "file_values = []\n",
        "file_name = []\n",
        "file_genre = []\n",
        "\n",
        "folder_path = '../dataset/Data/images_rgb/'\n",
        "genre_folders = os.listdir(folder_path)\n",
        "\n",
        "for genre_folder in genre_folders:\n",
        "  \n",
        "  files = os.listdir(folder_path + genre_folder)\n",
        "  print(genre_folder, len(files))\n",
        "  \n",
        "  for image in files:\n",
        "    im = imageio.imread(folder_path + genre_folder+ \"/\" +image)\n",
        "    file_values.append(im)\n",
        "    file_name.append(image)\n",
        "    file_genre.append(genre_folder)"
      ]
    },
    {
      "cell_type": "code",
      "execution_count": 3,
      "metadata": {},
      "outputs": [],
      "source": [
        "df_dict = {\n",
        "    'filename': file_name,\n",
        "    'file_values': file_values,\n",
        "    'label': file_genre,\n",
        "}\n",
        "\n",
        "df = pd.DataFrame(df_dict)"
      ]
    },
    {
      "cell_type": "markdown",
      "metadata": {},
      "source": [
        "## Dividindo em treino, validação e teste"
      ]
    },
    {
      "cell_type": "code",
      "execution_count": 4,
      "metadata": {},
      "outputs": [
        {
          "name": "stdout",
          "output_type": "stream",
          "text": [
            "-- Treino --\n",
            "X (shape):  (699, 2)\n",
            "y:  699\n",
            "-- Validação --\n",
            "X (shape):  (150, 2)\n",
            "y:  150\n",
            "-- Teste --\n",
            "X (shape):  (150, 2)\n",
            "y:  150\n"
          ]
        }
      ],
      "source": [
        "X_train, y_train, X_val, y_val, X_test, y_test = get_train_val_set_data(df)"
      ]
    },
    {
      "cell_type": "code",
      "execution_count": 5,
      "metadata": {},
      "outputs": [
        {
          "data": {
            "text/html": [
              "<div>\n",
              "<style scoped>\n",
              "    .dataframe tbody tr th:only-of-type {\n",
              "        vertical-align: middle;\n",
              "    }\n",
              "\n",
              "    .dataframe tbody tr th {\n",
              "        vertical-align: top;\n",
              "    }\n",
              "\n",
              "    .dataframe thead th {\n",
              "        text-align: right;\n",
              "    }\n",
              "</style>\n",
              "<table border=\"1\" class=\"dataframe\">\n",
              "  <thead>\n",
              "    <tr style=\"text-align: right;\">\n",
              "      <th></th>\n",
              "      <th>filename</th>\n",
              "      <th>file_values</th>\n",
              "    </tr>\n",
              "  </thead>\n",
              "  <tbody>\n",
              "    <tr>\n",
              "      <th>0</th>\n",
              "      <td>blues00000</td>\n",
              "      <td>[[[255, 255, 255], [255, 255, 255], [255, 255,...</td>\n",
              "    </tr>\n",
              "    <tr>\n",
              "      <th>1</th>\n",
              "      <td>blues00003</td>\n",
              "      <td>[[[255, 255, 255], [255, 255, 255], [255, 255,...</td>\n",
              "    </tr>\n",
              "    <tr>\n",
              "      <th>2</th>\n",
              "      <td>blues00004</td>\n",
              "      <td>[[[255, 255, 255], [255, 255, 255], [255, 255,...</td>\n",
              "    </tr>\n",
              "    <tr>\n",
              "      <th>3</th>\n",
              "      <td>blues00005</td>\n",
              "      <td>[[[255, 255, 255], [255, 255, 255], [255, 255,...</td>\n",
              "    </tr>\n",
              "    <tr>\n",
              "      <th>4</th>\n",
              "      <td>blues00006</td>\n",
              "      <td>[[[255, 255, 255], [255, 255, 255], [255, 255,...</td>\n",
              "    </tr>\n",
              "  </tbody>\n",
              "</table>\n",
              "</div>"
            ],
            "text/plain": [
              "     filename                                        file_values\n",
              "0  blues00000  [[[255, 255, 255], [255, 255, 255], [255, 255,...\n",
              "1  blues00003  [[[255, 255, 255], [255, 255, 255], [255, 255,...\n",
              "2  blues00004  [[[255, 255, 255], [255, 255, 255], [255, 255,...\n",
              "3  blues00005  [[[255, 255, 255], [255, 255, 255], [255, 255,...\n",
              "4  blues00006  [[[255, 255, 255], [255, 255, 255], [255, 255,..."
            ]
          },
          "execution_count": 5,
          "metadata": {},
          "output_type": "execute_result"
        }
      ],
      "source": [
        "X_train.head()"
      ]
    },
    {
      "cell_type": "code",
      "execution_count": null,
      "metadata": {},
      "outputs": [],
      "source": []
    }
  ],
  "metadata": {
    "colab": {
      "collapsed_sections": [],
      "name": "Music Genre Classification - MASTER.ipynb",
      "provenance": [],
      "toc_visible": true
    },
    "kernelspec": {
      "display_name": "Python 3",
      "name": "python3"
    },
    "language_info": {
      "codemirror_mode": {
        "name": "ipython",
        "version": 3
      },
      "file_extension": ".py",
      "mimetype": "text/x-python",
      "name": "python",
      "nbconvert_exporter": "python",
      "pygments_lexer": "ipython3",
      "version": "3.8.8"
    }
  },
  "nbformat": 4,
  "nbformat_minor": 0
}
