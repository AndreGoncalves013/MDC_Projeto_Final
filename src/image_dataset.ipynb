{
  "cells": [
    {
      "cell_type": "markdown",
      "metadata": {
        "id": "Rn7eAp7u2dYV"
      },
      "source": [
        "# **Image Dataset**"
      ]
    },
    {
      "cell_type": "markdown",
      "metadata": {
        "id": "eZJ6oHBI32yx"
      },
      "source": [
        "## Importação de pacotes e leitura dos dados"
      ]
    },
    {
      "cell_type": "code",
      "execution_count": 33,
      "metadata": {
        "id": "D1bAlzyDUL2q"
      },
      "outputs": [],
      "source": [
        "import numpy as np\n",
        "import pandas as pd\n",
        "import os\n",
        "import imageio\n",
        "from PIL import Image\n",
        "import matplotlib.pyplot as plt\n",
        "from utils import get_train_val_set_data\n",
        "import tensorflow as tf\n"
      ]
    },
    {
      "cell_type": "markdown",
      "metadata": {},
      "source": [
        "### Lendo as imagens em formato RGB"
      ]
    },
    {
      "cell_type": "code",
      "execution_count": 2,
      "metadata": {},
      "outputs": [
        {
          "name": "stdout",
          "output_type": "stream",
          "text": [
            "blues 100\n",
            "classical 100\n",
            "country 100\n",
            "disco 100\n",
            "hiphop 100\n",
            "jazz 99\n",
            "metal 100\n",
            "pop 100\n",
            "reggae 100\n",
            "rock 100\n"
          ]
        }
      ],
      "source": [
        "file_values = []\n",
        "file_name = []\n",
        "file_genre = []\n",
        "\n",
        "folder_path = '../dataset/Data/images_rgb/'\n",
        "genre_folders = os.listdir(folder_path)\n",
        "\n",
        "for genre_folder in genre_folders:\n",
        "  \n",
        "  files = os.listdir(folder_path + genre_folder)\n",
        "  print(genre_folder, len(files))\n",
        "  \n",
        "  for image in files:\n",
        "    #im = imageio.imread(folder_path + genre_folder+ \"/\" +image)\n",
        "\n",
        "    img = Image.open(folder_path + genre_folder+ \"/\" +image)\n",
        "    image_array = np.array(img)\n",
        "    file_values.append(image_array)\n",
        "    #file_values.append(np.array(im).tolist())\n",
        "    file_name.append(image)\n",
        "    file_genre.append(genre_folder)"
      ]
    },
    {
      "cell_type": "code",
      "execution_count": 41,
      "metadata": {},
      "outputs": [],
      "source": [
        "df_dict = {\n",
        "    'filename': file_name,\n",
        "    'file_values': file_values,\n",
        "    'label': file_genre,\n",
        "}\n",
        "\n",
        "df = pd.DataFrame(df_dict)"
      ]
    },
    {
      "cell_type": "code",
      "execution_count": 4,
      "metadata": {},
      "outputs": [],
      "source": [
        "#df.file_values = df.file_values.apply(lambda x: x.tolist() )"
      ]
    },
    {
      "cell_type": "code",
      "execution_count": 5,
      "metadata": {},
      "outputs": [
        {
          "data": {
            "text/html": [
              "<div>\n",
              "<style scoped>\n",
              "    .dataframe tbody tr th:only-of-type {\n",
              "        vertical-align: middle;\n",
              "    }\n",
              "\n",
              "    .dataframe tbody tr th {\n",
              "        vertical-align: top;\n",
              "    }\n",
              "\n",
              "    .dataframe thead th {\n",
              "        text-align: right;\n",
              "    }\n",
              "</style>\n",
              "<table border=\"1\" class=\"dataframe\">\n",
              "  <thead>\n",
              "    <tr style=\"text-align: right;\">\n",
              "      <th></th>\n",
              "      <th>filename</th>\n",
              "      <th>file_values</th>\n",
              "      <th>label</th>\n",
              "    </tr>\n",
              "  </thead>\n",
              "  <tbody>\n",
              "    <tr>\n",
              "      <th>0</th>\n",
              "      <td>blues00000.png</td>\n",
              "      <td>[[[255, 255, 255], [255, 255, 255], [255, 255,...</td>\n",
              "      <td>blues</td>\n",
              "    </tr>\n",
              "    <tr>\n",
              "      <th>1</th>\n",
              "      <td>blues00001.png</td>\n",
              "      <td>[[[255, 255, 255], [255, 255, 255], [255, 255,...</td>\n",
              "      <td>blues</td>\n",
              "    </tr>\n",
              "    <tr>\n",
              "      <th>2</th>\n",
              "      <td>blues00002.png</td>\n",
              "      <td>[[[255, 255, 255], [255, 255, 255], [255, 255,...</td>\n",
              "      <td>blues</td>\n",
              "    </tr>\n",
              "    <tr>\n",
              "      <th>3</th>\n",
              "      <td>blues00003.png</td>\n",
              "      <td>[[[255, 255, 255], [255, 255, 255], [255, 255,...</td>\n",
              "      <td>blues</td>\n",
              "    </tr>\n",
              "    <tr>\n",
              "      <th>4</th>\n",
              "      <td>blues00004.png</td>\n",
              "      <td>[[[255, 255, 255], [255, 255, 255], [255, 255,...</td>\n",
              "      <td>blues</td>\n",
              "    </tr>\n",
              "  </tbody>\n",
              "</table>\n",
              "</div>"
            ],
            "text/plain": [
              "         filename                                        file_values  label\n",
              "0  blues00000.png  [[[255, 255, 255], [255, 255, 255], [255, 255,...  blues\n",
              "1  blues00001.png  [[[255, 255, 255], [255, 255, 255], [255, 255,...  blues\n",
              "2  blues00002.png  [[[255, 255, 255], [255, 255, 255], [255, 255,...  blues\n",
              "3  blues00003.png  [[[255, 255, 255], [255, 255, 255], [255, 255,...  blues\n",
              "4  blues00004.png  [[[255, 255, 255], [255, 255, 255], [255, 255,...  blues"
            ]
          },
          "execution_count": 5,
          "metadata": {},
          "output_type": "execute_result"
        }
      ],
      "source": [
        "df.head()"
      ]
    },
    {
      "cell_type": "markdown",
      "metadata": {},
      "source": [
        "## Dividindo em treino, validação e teste"
      ]
    },
    {
      "cell_type": "code",
      "execution_count": 46,
      "metadata": {},
      "outputs": [
        {
          "name": "stdout",
          "output_type": "stream",
          "text": [
            "-- Treino --\n",
            "X (shape):  (699, 2)\n",
            "y:  699\n",
            "-- Validação --\n",
            "X (shape):  (150, 2)\n",
            "y:  150\n",
            "-- Teste --\n",
            "X (shape):  (150, 2)\n",
            "y:  150\n"
          ]
        }
      ],
      "source": [
        "X_train, y_train, X_val, y_val, X_test, y_test = get_train_val_set_data(df)"
      ]
    },
    {
      "cell_type": "markdown",
      "metadata": {},
      "source": [
        "## Data Prep"
      ]
    },
    {
      "cell_type": "markdown",
      "metadata": {},
      "source": [
        "### Features"
      ]
    },
    {
      "cell_type": "code",
      "execution_count": 47,
      "metadata": {},
      "outputs": [],
      "source": [
        "X_train = np.concatenate(X_train.file_values.values).reshape(X_train.shape[0], 288, 432, 3)\n",
        "X_val = np.concatenate(X_val.file_values.values).reshape(X_val.shape[0], 288, 432, 3)\n",
        "X_test = np.concatenate(X_test.file_values.values).reshape(X_test.shape[0], 288, 432, 3)"
      ]
    },
    {
      "cell_type": "markdown",
      "metadata": {},
      "source": [
        "### Variável target"
      ]
    },
    {
      "cell_type": "markdown",
      "metadata": {},
      "source": [
        "Utilizando Label Encoding para transformar os generos musicais em números de 0 a 9"
      ]
    },
    {
      "cell_type": "code",
      "execution_count": 51,
      "metadata": {},
      "outputs": [
        {
          "name": "stdout",
          "output_type": "stream",
          "text": [
            "Exemplo antes: 0\n"
          ]
        }
      ],
      "source": [
        "from sklearn import preprocessing\n",
        "le = preprocessing.LabelEncoder()\n",
        "\n",
        "le.fit(y_train)\n",
        "\n",
        "Y_train = le.transform(y_train)\n",
        "Y_val = le.transform(y_val)\n",
        "Y_Test = le.transform(y_test)\n",
        "\n",
        "print('Exemplo antes:', Y_train[0])"
      ]
    },
    {
      "cell_type": "markdown",
      "metadata": {},
      "source": [
        "Transformando as saídas no formato de One Hot Encoding "
      ]
    },
    {
      "cell_type": "code",
      "execution_count": 52,
      "metadata": {},
      "outputs": [
        {
          "name": "stdout",
          "output_type": "stream",
          "text": [
            "Exemplo depois: [1. 0. 0. 0. 0. 0. 0. 0. 0. 0.]\n"
          ]
        }
      ],
      "source": [
        "n_classes = 10\n",
        "\n",
        "Y_train = tf.keras.utils.to_categorical(Y_train, n_classes)\n",
        "Y_val = tf.keras.utils.to_categorical(Y_val, n_classes)\n",
        "Y_test = tf.keras.utils.to_categorical(Y_Test, n_classes)\n",
        "\n",
        "print('Exemplo depois:', Y_train[0])"
      ]
    },
    {
      "cell_type": "markdown",
      "metadata": {},
      "source": [
        "## Modelagens"
      ]
    },
    {
      "cell_type": "code",
      "execution_count": 53,
      "metadata": {},
      "outputs": [
        {
          "data": {
            "text/plain": [
              "(288, 432, 3)"
            ]
          },
          "execution_count": 53,
          "metadata": {},
          "output_type": "execute_result"
        }
      ],
      "source": [
        "input_shape = X_train[0].shape\n",
        "input_shape"
      ]
    },
    {
      "cell_type": "markdown",
      "metadata": {},
      "source": [
        "### VGG19 com camandas pré treinadas congeladas"
      ]
    },
    {
      "cell_type": "code",
      "execution_count": 54,
      "metadata": {},
      "outputs": [
        {
          "name": "stdout",
          "output_type": "stream",
          "text": [
            "Model: \"sequential\"\n",
            "_________________________________________________________________\n",
            "Layer (type)                 Output Shape              Param #   \n",
            "=================================================================\n",
            "vgg19 (Functional)           (None, 9, 13, 512)        20024384  \n",
            "_________________________________________________________________\n",
            "global_average_pooling2d (Gl (None, 512)               0         \n",
            "_________________________________________________________________\n",
            "dense (Dense)                (None, 10)                5130      \n",
            "=================================================================\n",
            "Total params: 20,029,514\n",
            "Trainable params: 5,130\n",
            "Non-trainable params: 20,024,384\n",
            "_________________________________________________________________\n"
          ]
        }
      ],
      "source": [
        "vgg19_model = tf.keras.applications.VGG19(\n",
        "    include_top=False,\n",
        "    weights=\"imagenet\",\n",
        "    classes=1000,\n",
        "    classifier_activation=\"softmax\",\n",
        "    input_shape = input_shape\n",
        ")\n",
        "\n",
        "for layer in vgg19_model.layers:\n",
        "    layer.trainable = False\n",
        "\n",
        "# Insere novas camadas no fim da rede para classificação\n",
        "frozen_model = tf.keras.Sequential([\n",
        "  vgg19_model,\n",
        "  tf.keras.layers.GlobalAveragePooling2D(),\n",
        "  tf.keras.layers.Dense(10, activation='softmax')\n",
        "])\n",
        "\n",
        "frozen_model.summary()"
      ]
    },
    {
      "cell_type": "code",
      "execution_count": 55,
      "metadata": {},
      "outputs": [],
      "source": [
        "sgd = tf.keras.optimizers.SGD(learning_rate=0.001)\n",
        "\n",
        "early = tf.keras.callbacks.EarlyStopping(monitor='val_loss', patience=3, restore_best_weights=True)\n",
        "\n",
        "#train_batches = datagen_resnet.flow(X_train, Y_train, shuffle=True, batch_size=64)\n",
        "#val_batches = datagen_resnet.flow(X_val, Y_val, shuffle=True, batch_size=64)"
      ]
    },
    {
      "cell_type": "code",
      "execution_count": 59,
      "metadata": {},
      "outputs": [],
      "source": [
        "frozen_model.compile(\n",
        "    loss='categorical_crossentropy', \n",
        "    optimizer=sgd, metrics=['accuracy']\n",
        ")\n",
        "\n"
      ]
    },
    {
      "cell_type": "code",
      "execution_count": 61,
      "metadata": {},
      "outputs": [
        {
          "name": "stdout",
          "output_type": "stream",
          "text": [
            "Epoch 1/2\n",
            "70/70 [==============================] - 1090s 16s/step - loss: 3.2336 - accuracy: 0.1731 - val_loss: 2.7476 - val_accuracy: 0.1733\n",
            "Epoch 2/2\n",
            "70/70 [==============================] - 1094s 16s/step - loss: 2.2151 - accuracy: 0.3033 - val_loss: 1.9443 - val_accuracy: 0.3467\n"
          ]
        },
        {
          "data": {
            "text/plain": [
              "<keras.callbacks.History at 0x1ba5bff8550>"
            ]
          },
          "execution_count": 61,
          "metadata": {},
          "output_type": "execute_result"
        }
      ],
      "source": [
        "frozen_model.fit( \n",
        "            x = X_train, \n",
        "            y = Y_train, \n",
        "            validation_data = (X_val, Y_val), \n",
        "            epochs = 2, \n",
        "            batch_size = 10,\n",
        "            callbacks = [early],\n",
        "            shuffle = True\n",
        "        )\n"
      ]
    },
    {
      "cell_type": "code",
      "execution_count": null,
      "metadata": {},
      "outputs": [],
      "source": []
    }
  ],
  "metadata": {
    "colab": {
      "collapsed_sections": [],
      "name": "Music Genre Classification - MASTER.ipynb",
      "provenance": [],
      "toc_visible": true
    },
    "kernelspec": {
      "display_name": "Python 3",
      "name": "python3"
    },
    "language_info": {
      "codemirror_mode": {
        "name": "ipython",
        "version": 3
      },
      "file_extension": ".py",
      "mimetype": "text/x-python",
      "name": "python",
      "nbconvert_exporter": "python",
      "pygments_lexer": "ipython3",
      "version": "3.8.8"
    }
  },
  "nbformat": 4,
  "nbformat_minor": 0
}
